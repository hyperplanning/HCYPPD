{
 "cells": [
  {
   "cell_type": "code",
   "execution_count": null,
   "id": "7efb0e9b",
   "metadata": {},
   "outputs": [],
   "source": [
    "import math\n",
    "import numpy as np\n",
    "import pandas as pd\n",
    "import seaborn as sns\n",
    "import matplotlib.pyplot as plt\n",
    "%matplotlib inline\n",
    "\n",
    "from sklearn.linear_model import LinearRegression\n",
    "from sklearn.model_selection import train_test_split"
   ]
  },
  {
   "cell_type": "code",
   "execution_count": null,
   "id": "12ef7306",
   "metadata": {},
   "outputs": [],
   "source": [
    "data = pd.read_parquet(\"data/raw/france.parquet\")\n",
    "data.dropna(axis=0, how='any', inplace=True)\n",
    "\n",
    "position = pd.read_csv(\"data/raw/postesSynop.csv\", sep=\";\")\n",
    "\n",
    "Id = position[\"ID\"].astype(str)\n",
    "for i in range(len(Id)):\n",
    "    if len(Id[i]) < 5:\n",
    "        Id[i] = '0' + Id[i]\n",
    "\n",
    "production = pd.read_parquet(\"data/raw/franceagrimer-rdts-surfs-multicrops.parquet\")\n",
    "production = production.drop(production[production[\"n_dep\"] == \"2A\"].index)\n",
    "production = production.drop(production[production[\"n_dep\"] == \"2B\"].index)\n",
    "production = production.drop(production[production[\"n_dep\"].astype(int) > 95].index)\n",
    "\n",
    "provinces = {7005: 80, 7015: 59, 7020: 50, 7027: 14, 7037: 76, 7072: 51, 7110: 29, 7117: 22, 7130: 35, 7139: 61, 7149: 91, 7168: 10, 7181: 54, 7190: 67, 7207: 56, 7222: 44, 7240: 37, 7255: 18, 7280: 21, 7299: 68, 7314: 17, 7335: 86, 7434: 87, 7460: 63, 7471: 43, 7481: 69, 7510: 33, 7535: 46, 7558: 12, 7577: 26, 7591: 5, 7607: 40, 7621: 65, 7627: 9, 7630: 31, 7643: 34, 7650: 13, 7661: 83, 7690: 6, 7747: 66, 67005: 10}\n",
    "\n",
    "crops = production[\"crop\"].unique()\n",
    "stations = data[\"id_sta\"].unique()"
   ]
  },
  {
   "cell_type": "code",
   "execution_count": null,
   "id": "d1e62845",
   "metadata": {},
   "outputs": [],
   "source": [
    "lr = LinearRegression()"
   ]
  },
  {
   "cell_type": "markdown",
   "id": "9ae619d5",
   "metadata": {},
   "source": [
    "# Single Element Regression by Month"
   ]
  },
  {
   "cell_type": "code",
   "execution_count": 4,
   "id": "6b0ab1e4",
   "metadata": {},
   "outputs": [],
   "source": [
    "times = 10000"
   ]
  },
  {
   "cell_type": "code",
   "execution_count": 11,
   "id": "d61b4ab6",
   "metadata": {},
   "outputs": [],
   "source": [
    "def init_y(data_list):\n",
    "    for i in data_list:\n",
    "        n_dep0, year, month = i.split('_')\n",
    "        if n_dep0 + \"_\" + str(year) not in total_rdt:\n",
    "            r_year = production['n_dep'].map(lambda x : x == n_dep0)\n",
    "            r_crop = production['crop'].map(lambda x : x == crop)\n",
    "            rdt = production[r_year & r_crop][\"rdt_\" + str(year)].values\n",
    "            if rdt.size > 0:\n",
    "                if rdt[0]:\n",
    "                    total_rdt[n_dep0 + \"_\" + str(year)] = rdt[0]\n",
    "\n",
    "\n",
    "def init(month, data_list):\n",
    "    init_y(data_list)\n",
    "    return init_list(month)\n",
    "\n",
    "\n",
    "def predict_zero():\n",
    "    predict_zero = rdt_array.mean()\n",
    "    \n",
    "    RMSE = math.sqrt(((predict_zero - rdt_array) ** 2).sum() / len(rdt_array))\n",
    "    rRMSE = RMSE / rdt_array.mean()\n",
    "    \n",
    "    return rRMSE\n",
    "\n",
    "\n",
    "def predict_n(n, times):\n",
    "    if n == 0:\n",
    "        return predict_zero(), 0.0\n",
    "\n",
    "    sum_RMSE = 0\n",
    "    coef = np.array([0.0 for i in range(n)])\n",
    "    \n",
    "    for i in range(times):\n",
    "        X_train, X_test, y_train, y_test = train_test_split(data_array, rdt_array, test_size=0.2)\n",
    "        X_train_n = X_train\n",
    "        X_test_n = X_test\n",
    "        for i in range(2, n + 1):\n",
    "            X_train_n = np.concatenate([X_train ** i, X_train_n], axis=1)\n",
    "            X_test_n = np.concatenate([X_test ** i, X_test_n], axis=1)\n",
    "        \n",
    "        lr.fit(X_train_n, y_train)\n",
    "        coef += lr.coef_\n",
    "        y_predict_n = lr.predict(X_test_n)\n",
    "        \n",
    "        RMSE = math.sqrt(((y_predict_n - y_test) ** 2).sum() / len(y_test))\n",
    "        rRMSE = RMSE / y_test.mean()\n",
    "        \n",
    "        sum_RMSE += rRMSE\n",
    "\n",
    "    return sum_RMSE / times, coef / times\n",
    "\n",
    "\n",
    "def test_degree_n(times, month):\n",
    "    degree = np.linspace(start, end, end - start + 1)\n",
    "    for i in degree:\n",
    "        rRMSE_degree_month[crop + \"_\" + i.astype(int).astype(str) + \"_\" + str(month)], coeffs[crop + \"_\" + i.astype(int).astype(str) + \"_\" + str(month)] = predict_n(i.astype(int), times)\n",
    "\n",
    "\n",
    "def find_best_degree_each_month():\n",
    "    for crop in crops:\n",
    "        for month in range(1, 13):\n",
    "            best_degree = start\n",
    "            best_RMSE = rRMSE_degree_month[crop + \"_\" + str(start) + \"_\" + str(month)]\n",
    "            for degree in range(start + 1, end - start + 1):\n",
    "                if rRMSE_degree_month[crop + \"_\" + str(degree) + \"_\" + str(month)] < best_RMSE:\n",
    "                    best_RMSE = rRMSE_degree_month[crop + \"_\" + str(degree) + \"_\" + str(month)]\n",
    "                    best_degree = degree\n",
    "            best_rRMSE_month[crop + \"_\" + str(best_degree) + \"_\" + str(month)] = best_RMSE\n",
    "\n",
    "        \n",
    "def draw():\n",
    "    for i in best_rRMSE_month:\n",
    "        crop, degree, month = i.split(\"_\")\n",
    "        if crop + \"_\" + str(month) not in month_best:\n",
    "            month_best[crop + \"_\" + str(month)] = rRMSE_degree_month[i]\n",
    "            month_best_degree[crop + \"_\" + str(month)] = degree\n",
    "    \n",
    "    fig, ax = plt.subplots(1, 1, figsize=(15, 5))\n",
    "    plt.xticks(np.arange(1, 13, 1))\n",
    "    for crop in crops:\n",
    "        rRMSE_plot = []\n",
    "        x_plot = np.linspace(1, 12, 12)\n",
    "        for i in x_plot:\n",
    "            rRMSE_plot.append(month_best[crop + \"_\" + i.astype(int).astype(str)])\n",
    "        plt.plot(x_plot, rRMSE_plot)\n",
    "    plt.legend(crops)"
   ]
  },
  {
   "cell_type": "markdown",
   "id": "6c8f5a1a",
   "metadata": {},
   "source": [
    "## Consider One Month"
   ]
  },
  {
   "cell_type": "markdown",
   "id": "b42cbab5",
   "metadata": {},
   "source": [
    "### rr24"
   ]
  },
  {
   "cell_type": "code",
   "execution_count": 6,
   "id": "d87824f6",
   "metadata": {},
   "outputs": [],
   "source": [
    "def init_x():\n",
    "    for i in stations:\n",
    "        if i in provinces:\n",
    "            data_station = data[data[\"id_sta\"] == i]\n",
    "            day_position = 0\n",
    "\n",
    "            for j in range(2017, 2023):\n",
    "                for m in range(1, 13):\n",
    "                    rain = 0\n",
    "                    if data_station.index[day_position].year == j:\n",
    "                        if data_station.index[day_position].month == m:\n",
    "                            for d in range(day_position, len(data_station)):\n",
    "                                if data_station.index[d].month == m:\n",
    "                                    rain += data_station[\"rr24\"][d]\n",
    "                                else:\n",
    "                                    day_position = d\n",
    "                                    break\n",
    "                            total_rain[str(provinces[i]) + \"_\" + str(j) + \"_\" + str(m)] = rain"
   ]
  },
  {
   "cell_type": "code",
   "execution_count": 7,
   "id": "24f27b67",
   "metadata": {},
   "outputs": [],
   "source": [
    "def init_list(month):\n",
    "    data_list = []\n",
    "    rdt_list = []\n",
    "\n",
    "    for i in total_rdt:\n",
    "        if i + \"_\" + str(month) in total_rain:\n",
    "            data_list.append(np.array([total_rain[i + \"_\" + str(month)]]))\n",
    "            rdt_list.append(total_rdt[i])\n",
    "\n",
    "    data_list = np.array(data_list)\n",
    "    rdt_list = np.array(rdt_list)\n",
    "    \n",
    "    return data_list, rdt_list"
   ]
  },
  {
   "cell_type": "code",
   "execution_count": 8,
   "id": "01962f93",
   "metadata": {},
   "outputs": [],
   "source": [
    "start = 0\n",
    "end = 10"
   ]
  },
  {
   "cell_type": "code",
   "execution_count": 9,
   "id": "fcaa6c16",
   "metadata": {},
   "outputs": [],
   "source": [
    "rRMSE_degree_month = {}\n",
    "total_rain = {}\n",
    "coeffs = {}\n",
    "best_rRMSE_month = {}\n",
    "\n",
    "init_x()\n",
    "\n",
    "for crop in crops:\n",
    "    for month in range(1, 13):\n",
    "        total_rdt = {}\n",
    "\n",
    "        data_array, rdt_array = init(month)\n",
    "\n",
    "        test_degree_n(times, month)"
   ]
  },
  {
   "cell_type": "code",
   "execution_count": 10,
   "id": "9ef7eae4",
   "metadata": {},
   "outputs": [
    {
     "data": {
      "image/png": "[encoded data removed]",
      "text/plain": [
       "<Figure size 1080x360 with 1 Axes>"
      ]
     },
     "metadata": {
      "needs_background": "light"
     },
     "output_type": "display_data"
    }
   ],
   "source": [
    "month_best = {}\n",
    "month_best_degree = {}\n",
    "\n",
    "find_best_degree_each_month()\n",
    "draw()"
   ]
  },
  {
   "cell_type": "code",
   "execution_count": 11,
   "id": "9749b6f2",
   "metadata": {},
   "outputs": [
    {
     "data": {
      "text/plain": [
       "{'OP_12': 0.2322071656091863,\n",
       " 'CZH_3': 0.18402993443741308,\n",
       " 'BTH_3': 0.22460202427856701,\n",
       " 'TS_6': 0.19669659688099006,\n",
       " 'BTP_3': 0.2768964786436296,\n",
       " 'BDP_10': 0.2306520700715159,\n",
       " 'BDH_10': 0.23096868949161753,\n",
       " 'OH_12': 0.2121983578323222,\n",
       " 'MA_7': 0.18486863862671044}"
      ]
     },
     "execution_count": 11,
     "metadata": {},
     "output_type": "execute_result"
    }
   ],
   "source": [
    "best_predict = {}\n",
    "\n",
    "for crop in crops:\n",
    "    temp_list = []\n",
    "    for i in range(1, 13):\n",
    "        temp_list.append(month_best[crop + \"_\" + str(i)])\n",
    "    best_predict[crop + \"_\" + str(temp_list.index(min(temp_list)) + 1)] = min(temp_list)\n",
    "\n",
    "best_predict"
   ]
  },
  {
   "cell_type": "code",
   "execution_count": 12,
   "id": "a4ca17a1",
   "metadata": {},
   "outputs": [
    {
     "data": {
      "text/plain": [
       "{'OP_12': '3',\n",
       " 'CZH_3': '4',\n",
       " 'BTH_3': '4',\n",
       " 'TS_6': '2',\n",
       " 'BTP_3': '3',\n",
       " 'BDP_10': '1',\n",
       " 'BDH_10': '2',\n",
       " 'OH_12': '3',\n",
       " 'MA_7': '2'}"
      ]
     },
     "execution_count": 12,
     "metadata": {},
     "output_type": "execute_result"
    }
   ],
   "source": [
    "degree_best = {}\n",
    "\n",
    "for i in best_predict:\n",
    "    degree_best[i] = month_best_degree[i]\n",
    "\n",
    "degree_best"
   ]
  },
  {
   "cell_type": "code",
   "execution_count": 13,
   "id": "7d13d089",
   "metadata": {},
   "outputs": [
    {
     "data": {
      "text/plain": [
       "{'OP_3_12': array([ 1.13168290e-05, -5.68615336e-03,  8.03849839e-01]),\n",
       " 'CZH_4_3': array([-2.06209502e-07,  8.10195758e-05, -1.14342489e-02,  6.15454664e-01]),\n",
       " 'BTH_4_3': array([-5.07160451e-07,  2.13185283e-04, -3.26206541e-02,  1.88163703e+00]),\n",
       " 'TS_2_6': array([-0.00045741,  0.12414807]),\n",
       " 'BTP_3_3': array([ 6.81444449e-05, -1.94414208e-02,  1.47899202e+00]),\n",
       " 'BDP_1_10': array([-0.03889005]),\n",
       " 'BDH_2_10': array([-0.0003129 ,  0.03378415]),\n",
       " 'OH_3_12': array([ 1.24653990e-05, -6.37508791e-03,  9.00927689e-01]),\n",
       " 'MA_2_7': array([-0.00135654,  0.42478025])}"
      ]
     },
     "execution_count": 13,
     "metadata": {},
     "output_type": "execute_result"
    }
   ],
   "source": [
    "best_coeffs = {}\n",
    "\n",
    "for s in best_predict:\n",
    "    s_temp = s.split(\"_\")\n",
    "    s_temp = s_temp[0] + \"_\" + degree_best[s] + \"_\" + s_temp[1]\n",
    "    best_coeffs[s_temp] = coeffs[s_temp]\n",
    "        \n",
    "best_coeffs"
   ]
  },
  {
   "cell_type": "markdown",
   "id": "0b2f57eb",
   "metadata": {},
   "source": [
    "### DJ_0"
   ]
  },
  {
   "cell_type": "code",
   "execution_count": 6,
   "id": "a4b68c22",
   "metadata": {},
   "outputs": [],
   "source": [
    "def init_x():\n",
    "    for i in stations:\n",
    "        if i in provinces:\n",
    "            data_station = data[data[\"id_sta\"] == i]\n",
    "            day_position = 0\n",
    "\n",
    "            for j in range(2017, 2023):\n",
    "                for m in range(1, 13):\n",
    "                    rad_0 = 0\n",
    "                    if data_station.index[day_position].year == j:\n",
    "                        if data_station.index[day_position].month == m:\n",
    "                            for d in range(day_position, len(data_station)):\n",
    "                                if data_station.index[d].month == m:\n",
    "                                    rad_0 += data_station[\"DJ_0\"][d]\n",
    "                                else:\n",
    "                                    day_position = d\n",
    "                                    break\n",
    "                            total_rad_0[str(provinces[i]) + \"_\" + str(j) + \"_\" + str(m)] = rad_0"
   ]
  },
  {
   "cell_type": "code",
   "execution_count": 7,
   "id": "584dd6c5",
   "metadata": {},
   "outputs": [],
   "source": [
    "def init_list(month):\n",
    "    data_list = []\n",
    "    rdt_list = []\n",
    "\n",
    "    for i in total_rdt:\n",
    "        if i + \"_\" + str(month) in total_rad_0:\n",
    "            data_list.append(np.array([total_rad_0[i + \"_\" + str(month)]]))\n",
    "            rdt_list.append(total_rdt[i])\n",
    "\n",
    "    data_list = np.array(data_list)\n",
    "    rdt_list = np.array(rdt_list)\n",
    "    \n",
    "    return data_list, rdt_list"
   ]
  },
  {
   "cell_type": "code",
   "execution_count": 8,
   "id": "2d4ee827",
   "metadata": {},
   "outputs": [],
   "source": [
    "start = 0\n",
    "end = 10"
   ]
  },
  {
   "cell_type": "code",
   "execution_count": 19,
   "id": "64755873",
   "metadata": {},
   "outputs": [],
   "source": [
    "times = 10000"
   ]
  },
  {
   "cell_type": "code",
   "execution_count": null,
   "id": "a7a2159f",
   "metadata": {
    "scrolled": true
   },
   "outputs": [],
   "source": [
    "rRMSE_degree_month = {}\n",
    "total_rad_0 = {}\n",
    "coeffs = {}\n",
    "best_rRMSE_month = {}\n",
    "\n",
    "init_x()\n",
    "\n",
    "for crop in crops:\n",
    "    for month in range(1, 13):\n",
    "        \n",
    "        total_rdt = {}\n",
    "\n",
    "        data_array, rdt_array = init(month, total_rad_0)\n",
    "\n",
    "        test_degree_n(times, month)"
   ]
  },
  {
   "cell_type": "code",
   "execution_count": null,
   "id": "78eaf546",
   "metadata": {},
   "outputs": [],
   "source": [
    "month_best = {}\n",
    "month_best_degree = {}\n",
    "\n",
    "find_best_degree_each_month()\n",
    "draw()"
   ]
  },
  {
   "cell_type": "code",
   "execution_count": null,
   "id": "dfb8e653",
   "metadata": {},
   "outputs": [],
   "source": [
    "best_predict = {}\n",
    "\n",
    "for crop in crops:\n",
    "    temp_list = []\n",
    "    for i in range(1, 13):\n",
    "        temp_list.append(month_best[crop + \"_\" + str(i)])\n",
    "    best_predict[crop + \"_\" + str(temp_list.index(min(temp_list)) + 1)] = min(temp_list)\n",
    "\n",
    "best_predict"
   ]
  },
  {
   "cell_type": "code",
   "execution_count": null,
   "id": "b67d039d",
   "metadata": {},
   "outputs": [],
   "source": [
    "degree_best = {}\n",
    "\n",
    "for i in best_predict:\n",
    "    degree_best[i] = month_best_degree[i]\n",
    "\n",
    "degree_best"
   ]
  },
  {
   "cell_type": "code",
   "execution_count": null,
   "id": "866a67a5",
   "metadata": {},
   "outputs": [],
   "source": [
    "best_coeffs = {}\n",
    "\n",
    "for s in best_predict:\n",
    "    s_temp = s.split(\"_\")\n",
    "    s_temp = s_temp[0] + \"_\" + degree_best[s] + \"_\" + s_temp[1]\n",
    "    best_coeffs[s_temp] = coeffs[s_temp]\n",
    "        \n",
    "best_coeffs"
   ]
  },
  {
   "cell_type": "code",
   "execution_count": null,
   "id": "5bdc8a9c",
   "metadata": {},
   "outputs": [],
   "source": []
  }
 ],
 "metadata": {
  "kernelspec": {
   "display_name": "Python 3 (ipykernel)",
   "language": "python",
   "name": "python3"
  },
  "language_info": {
   "codemirror_mode": {
    "name": "ipython",
    "version": 3
   },
   "file_extension": ".py",
   "mimetype": "text/x-python",
   "name": "python",
   "nbconvert_exporter": "python",
   "pygments_lexer": "ipython3",
   "version": "3.9.7"
  }
 },
 "nbformat": 4,
 "nbformat_minor": 5
}
