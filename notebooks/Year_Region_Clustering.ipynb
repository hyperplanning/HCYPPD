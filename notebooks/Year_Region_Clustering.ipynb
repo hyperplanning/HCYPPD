{
 "cells": [
  {
   "cell_type": "code",
   "execution_count": 78,
   "id": "ebdb64b6",
   "metadata": {},
   "outputs": [],
   "source": [
    "import math\n",
    "import numpy as np\n",
    "import pandas as pd\n",
    "import itertools\n",
    "import random\n",
    "\n",
    "from sklearn.linear_model import LinearRegression"
   ]
  },
  {
   "cell_type": "code",
   "execution_count": 44,
   "id": "4cceb834",
   "metadata": {},
   "outputs": [],
   "source": [
    "data = pd.read_parquet(\"data/raw/france.parquet\")\n",
    "data.dropna(axis=0, how='any', inplace=True)\n",
    "\n",
    "data[\"id\"] = [i for i in range(len(data))]\n",
    "data[\"time\"] = data.index\n",
    "data = data.set_index(\"id\")\n",
    "all_years = []\n",
    "all_month = []\n",
    "for t in range(len(data)):\n",
    "    all_years.append(data[\"time\"][t].year)\n",
    "    all_month.append(data[\"time\"][t].month)\n",
    "data[\"year\"] = all_years\n",
    "data[\"month\"] = all_month\n",
    "data = data.drop([\"time\"], axis=1)\n",
    "\n",
    "position = pd.read_csv(\"data/raw/postesSynop.csv\", sep=\";\")\n",
    "\n",
    "Id = position[\"ID\"].astype(str)\n",
    "for i in range(len(Id)):\n",
    "    if len(Id[i]) < 5:\n",
    "        Id[i] = '0' + Id[i]\n",
    "\n",
    "production = pd.read_parquet(\"data/raw/franceagrimer-rdts-surfs-multicrops.parquet\")\n",
    "production = production.drop(production[production[\"n_dep\"] == \"2A\"].index)\n",
    "production = production.drop(production[production[\"n_dep\"] == \"2B\"].index)\n",
    "production = production.drop(production[production[\"n_dep\"].astype(int) > 95].index)\n",
    "\n",
    "provinces = {7005: 80, 7015: 59, 7020: 50, 7027: 14, 7037: 76,\n",
    "             7072: 51, 7110: 29, 7117: 22, 7130: 35, 7139: 61,\n",
    "             7149: 91, 7168: 10, 7181: 54, 7190: 67, 7207: 56,\n",
    "             7222: 44, 7240: 37, 7255: 18, 7280: 21, 7299: 68,\n",
    "             7314: 17, 7335: 86, 7434: 87, 7460: 63, 7471: 43,\n",
    "             7481: 69, 7510: 33, 7535: 46, 7558: 12, 7577: 26,\n",
    "             7591: 5,  7607: 40, 7621: 65, 7627: 9,  7630: 31,\n",
    "             7643: 34, 7650: 13, 7661: 83, 7690: 6,  7747: 66,\n",
    "             7761: 91, 67005: 10}\n",
    "\n",
    "stations = data[\"id_sta\"].unique()\n",
    "unwanted_stations = []\n",
    "for i in stations:\n",
    "    if i not in provinces:\n",
    "        unwanted_stations.append(i)\n",
    "for i in unwanted_stations:\n",
    "    data = data.drop(data[data[\"id_sta\"] == i].index)\n",
    "\n",
    "temp_province = []\n",
    "for i in data[\"id_sta\"]:\n",
    "    temp_province.append(provinces[i])\n",
    "data[\"province\"] = temp_province\n",
    "data = data.drop([\"id_sta\"], axis=1)\n",
    "\n",
    "years = data[\"year\"].unique()\n",
    "provinces = data[\"province\"].unique()\n",
    "crops = production[\"crop\"].unique()\n",
    "n_deps = production[\"n_dep\"].unique()\n",
    "\n",
    "working_month = {\"OP\" : [3, 4, 5, 6, 7, 8],                   \"CZH\": [9, 10, 11, 12, 1, 2, 3, 4, 5, 6, 7],\n",
    "                 \"BTH\": [9, 10, 11, 12, 1, 2, 3, 4, 5, 6, 7], \"TS\" : [3, 4, 5, 6, 7, 8, 9, 10, 11],\n",
    "                 \"BTP\": [2, 3, 4, 5, 6, 7, 8],                \"BDP\": [2, 3, 4, 5, 6, 7, 8],\n",
    "                 \"BDH\": [9, 10, 11, 12, 1, 2, 3, 4, 5, 6, 7], \"OH\" : [9, 10, 11, 12, 1, 2, 3, 4, 5, 6, 7],\n",
    "                 \"MA\" : [4, 5, 6, 7, 8, 9, 10, 11]}\n",
    "\n",
    "lr = LinearRegression()"
   ]
  },
  {
   "cell_type": "code",
   "execution_count": 45,
   "id": "1ccd81d6",
   "metadata": {},
   "outputs": [],
   "source": [
    "def read_in_Y(crop, consider_part):\n",
    "    map_crop = production['crop'].map(lambda x: x == crop)\n",
    "    crop_value = production[map_crop]\n",
    "\n",
    "    for n in n_deps:\n",
    "        map_province = crop_value['n_dep'].map(lambda x: x == n)\n",
    "        crop_n_value = crop_value[map_province]\n",
    "\n",
    "        for y in years:\n",
    "            if len(crop_n_value[consider_part + \"_\" + str(y)].values):\n",
    "                rdt_value = crop_n_value[consider_part + \"_\" + str(y)].values[0]\n",
    "                if rdt_value:\n",
    "                    crop_Y_year[crop + \"_\" + str(int(n)) + \"_\" + str(y)] = rdt_value"
   ]
  },
  {
   "cell_type": "code",
   "execution_count": 46,
   "id": "3af99135",
   "metadata": {},
   "outputs": [],
   "source": [
    "def X_devide_region(consider_X):\n",
    "    for p in provinces:\n",
    "        temp_p_data = data[data[\"province\"].map(lambda x: x == p)]\n",
    "        for y in years:\n",
    "            temp_py_data = temp_p_data[temp_p_data[\"year\"].map(lambda x: x == y)]\n",
    "\n",
    "            if temp_py_data[consider_X[0]].tolist():\n",
    "                for x in consider_X:\n",
    "                    name = str(p) + \"_\" + str(y)\n",
    "                    if name not in X_region_year:\n",
    "                        X_region_year[name] = [temp_py_data[x].tolist()]\n",
    "                    else:\n",
    "                        X_region_year[name].append(temp_py_data[x].tolist())"
   ]
  },
  {
   "cell_type": "code",
   "execution_count": 47,
   "id": "3cd757ce",
   "metadata": {},
   "outputs": [],
   "source": [
    "def normalize_X():\n",
    "    for i in X_region_year:\n",
    "        X_region_year_normalized[i] = []\n",
    "        for j in X_region_year[i]:\n",
    "            temp_array = np.array(j)\n",
    "            X_region_year_normalized[i].append(((temp_array - temp_array.min()) / (temp_array.max() - temp_array.min())).tolist())"
   ]
  },
  {
   "cell_type": "code",
   "execution_count": 48,
   "id": "cd4864f0",
   "metadata": {},
   "outputs": [],
   "source": [
    "def init_list(crop, province):\n",
    "    X = []\n",
    "    Y = []\n",
    "    for y in years:\n",
    "        name = str(province) + \"_\" + str(y)\n",
    "        if name in X_region_year_normalized and crop + \"_\" + name in crop_Y_year:\n",
    "            X.append([np.average(X_region_year_normalized[name][i]) for i in range(len(X_region_year_normalized[name]))])\n",
    "            Y.append(crop_Y_year[crop + \"_\" + name])\n",
    "    return np.array(X), np.array(Y)"
   ]
  },
  {
   "cell_type": "code",
   "execution_count": 49,
   "id": "c3060947",
   "metadata": {},
   "outputs": [],
   "source": [
    "def add_power(data_X_array, powers):\n",
    "    data_X_power_array = []\n",
    "\n",
    "    for i in range(len(data_X_array)):\n",
    "        data_X_power_array.append([])\n",
    "\n",
    "        for j in range(len(data_X_array[i])):\n",
    "            temp_list = []\n",
    "            for p in range(1, powers[j] + 1):\n",
    "                temp_list.append(data_X_array[i][j] ** p)\n",
    "            data_X_power_array[-1].append(temp_list)\n",
    "\n",
    "    return data_X_power_array"
   ]
  },
  {
   "cell_type": "code",
   "execution_count": 50,
   "id": "2a9a1313",
   "metadata": {},
   "outputs": [],
   "source": [
    "def predict_zero(data_Y_array):\n",
    "    zero = data_Y_array.mean()\n",
    "\n",
    "    RMSE = math.sqrt(((zero - data_Y_array) ** 2).sum() / len(data_Y_array))\n",
    "    rRMSE = RMSE / data_Y_array.mean()\n",
    "\n",
    "    return rRMSE"
   ]
  },
  {
   "cell_type": "code",
   "execution_count": 54,
   "id": "635f11ca",
   "metadata": {},
   "outputs": [],
   "source": [
    "def predict(X_powered, Y):\n",
    "    X = []\n",
    "    for i in X_powered:\n",
    "        X.append([])\n",
    "        for j in i:\n",
    "            X[-1] += j\n",
    "\n",
    "    lr.fit(X, Y)\n",
    "\n",
    "    coef = lr.coef_\n",
    "    coef = coef.tolist()\n",
    "    coef_divided = []\n",
    "    degree_position = 0\n",
    "    for i in range(len(X_powered[0])):\n",
    "        coef_divided.append(coef[degree_position : degree_position + len(X_powered[0][i])])\n",
    "        degree_position += len(X_powered[0][i])\n",
    "    intercept = lr.intercept_\n",
    "\n",
    "    y_predict = lr.predict(X)\n",
    "\n",
    "    RMSE = math.sqrt(((y_predict - Y) ** 2).sum() / len(Y))\n",
    "    rRMSE = RMSE / Y.mean()\n",
    "\n",
    "    return rRMSE, coef, coef_divided, intercept"
   ]
  },
  {
   "cell_type": "markdown",
   "id": "869da9b5",
   "metadata": {},
   "source": [
    "# rr24"
   ]
  },
  {
   "cell_type": "code",
   "execution_count": 55,
   "id": "628711d3",
   "metadata": {},
   "outputs": [],
   "source": [
    "powers = [6, 6]"
   ]
  },
  {
   "cell_type": "code",
   "execution_count": 63,
   "id": "34b1ce5c",
   "metadata": {
    "scrolled": true
   },
   "outputs": [],
   "source": [
    "power_list = [[i for i in range(1, powers[j])] for j in range(len(powers))]\n",
    "power_list = list(itertools.product(*power_list))\n",
    "\n",
    "X_region_year = {}\n",
    "X_region_year_normalized = {}\n",
    "X_year_normalized_average = {}\n",
    "crops_Y_year = {}\n",
    "Y_province = {}\n",
    "rRMSE_degree = {}\n",
    "coeffs_degree = {}\n",
    "coeffs_degree_divided = {}\n",
    "intercepts_degree = {}\n",
    "\n",
    "X_devide_region([\"rr24\", \"DJ_0\"])\n",
    "normalize_X()\n",
    "\n",
    "for crop in crops:\n",
    "    crop_Y_year = {}\n",
    "    read_in_Y(crop, \"rdt\")\n",
    "    crops_Y_year[crop] = crop_Y_year\n",
    "\n",
    "    for p in provinces:\n",
    "        X, Y = init_list(crop, p)\n",
    "        \n",
    "        if len(X) and len(Y):\n",
    "            X_year_normalized_average[str(p)] = X\n",
    "            Y_province[crop + \"_\" + str(p)] = Y\n",
    "            name = crop + \"_\" + str(p) + \"_\"\n",
    "            rRMSE_degree[name + ('0_' * len(powers)).strip('_')] = predict_zero(Y)\n",
    "\n",
    "            for pl in power_list:\n",
    "                X_powered = add_power(X, pl)\n",
    "                pl_name = str(pl)[1: -1].replace(' ', '').replace(',', '_').strip('_')\n",
    "                rRMSE_degree[name + pl_name], coeffs_degree[name + pl_name], coeffs_degree_divided[name + pl_name], intercepts_degree[name + pl_name] = predict(X_powered, Y)"
   ]
  },
  {
   "cell_type": "code",
   "execution_count": 64,
   "id": "bf75926f",
   "metadata": {},
   "outputs": [],
   "source": [
    "def distance(coefs_0, inter_0, X_nd, Y, original_rRMSE):\n",
    "    new_predict = np.array([inter_0 for _ in X_nd])\n",
    "    for i in range(len(X_nd)):\n",
    "        for j in range(len(X_nd[0])):\n",
    "            new_predict[i] += coefs_0[j] * X_nd[i][j]\n",
    "\n",
    "    new_RMSE = math.sqrt(((new_predict - Y) ** 2).sum() / len(Y))\n",
    "    new_rRMSE = new_RMSE / Y.mean()\n",
    "\n",
    "    return math.fabs(new_rRMSE - original_rRMSE)"
   ]
  },
  {
   "cell_type": "code",
   "execution_count": null,
   "id": "adf10fff",
   "metadata": {},
   "outputs": [],
   "source": [
    "coef_cluster = 2"
   ]
  },
  {
   "cell_type": "code",
   "execution_count": 165,
   "id": "8e17fae9",
   "metadata": {},
   "outputs": [],
   "source": [
    "coef_group = {}\n",
    "coef_divided_group = {}\n",
    "inter_group = {}\n",
    "rRMSE_group = {}\n",
    "\n",
    "for i in range(cluster_number):\n",
    "    X_group = []\n",
    "    Y_group = []\n",
    "    for j in all_provinces[i]:\n",
    "        for k in X_year_normalized_average[j]:\n",
    "            X_group.append(k.tolist())\n",
    "            X_group_powered = add_power(X_group, pl)\n",
    "        for y in Y_province[crop + \"_\" + str(j)]:\n",
    "            Y_group.append(y)\n",
    "\n",
    "    rRMSE_group[str(i)], coef_group[str(i)], coef_divided_group[str(i)], inter_group[str(i)] = predict(X_group_powered, np.array(Y_group))\n",
    "\n"
   ]
  },
  {
   "cell_type": "code",
   "execution_count": 172,
   "id": "a8c6befd",
   "metadata": {},
   "outputs": [
    {
     "data": {
      "text/plain": [
       "{'0': 60.49479232983395, '1': 40.93948856472017}"
      ]
     },
     "execution_count": 172,
     "metadata": {},
     "output_type": "execute_result"
    }
   ],
   "source": [
    "inter_group"
   ]
  },
  {
   "cell_type": "code",
   "execution_count": 170,
   "id": "2c765aa1",
   "metadata": {},
   "outputs": [
    {
     "ename": "KeyError",
     "evalue": "0",
     "output_type": "error",
     "traceback": [
      "\u001b[1;31m---------------------------------------------------------------------------\u001b[0m",
      "\u001b[1;31mKeyError\u001b[0m                                  Traceback (most recent call last)",
      "\u001b[1;32m~\\AppData\\Local\\Temp/ipykernel_21744/331039609.py\u001b[0m in \u001b[0;36m<module>\u001b[1;34m\u001b[0m\n\u001b[0;32m      6\u001b[0m         \u001b[0moriginal_rRMSE\u001b[0m \u001b[1;33m=\u001b[0m \u001b[0mrRMSE_degree\u001b[0m\u001b[1;33m[\u001b[0m\u001b[0mcrop\u001b[0m \u001b[1;33m+\u001b[0m \u001b[1;34m\"_\"\u001b[0m \u001b[1;33m+\u001b[0m \u001b[0mstr\u001b[0m\u001b[1;33m(\u001b[0m\u001b[0mp\u001b[0m\u001b[1;33m)\u001b[0m \u001b[1;33m+\u001b[0m \u001b[1;34m\"_\"\u001b[0m \u001b[1;33m+\u001b[0m \u001b[0mdegree\u001b[0m\u001b[1;33m]\u001b[0m\u001b[1;33m\u001b[0m\u001b[1;33m\u001b[0m\u001b[0m\n\u001b[0;32m      7\u001b[0m \u001b[1;33m\u001b[0m\u001b[0m\n\u001b[1;32m----> 8\u001b[1;33m         \u001b[0mprovince_point_distance\u001b[0m\u001b[1;33m[\u001b[0m\u001b[0mstr\u001b[0m\u001b[1;33m(\u001b[0m\u001b[0mp\u001b[0m\u001b[1;33m)\u001b[0m \u001b[1;33m+\u001b[0m \u001b[1;34m\"_\"\u001b[0m \u001b[1;33m+\u001b[0m \u001b[0mstr\u001b[0m\u001b[1;33m(\u001b[0m\u001b[0mc\u001b[0m\u001b[1;33m)\u001b[0m\u001b[1;33m]\u001b[0m \u001b[1;33m=\u001b[0m \u001b[0mdistance\u001b[0m\u001b[1;33m(\u001b[0m\u001b[0mcoef_group\u001b[0m\u001b[1;33m[\u001b[0m\u001b[0mc\u001b[0m\u001b[1;33m]\u001b[0m\u001b[1;33m,\u001b[0m \u001b[0minter_group\u001b[0m\u001b[1;33m[\u001b[0m\u001b[0mc\u001b[0m\u001b[1;33m]\u001b[0m\u001b[1;33m,\u001b[0m \u001b[0mX_nd\u001b[0m\u001b[1;33m,\u001b[0m \u001b[0mY\u001b[0m\u001b[1;33m,\u001b[0m \u001b[0moriginal_rRMSE\u001b[0m\u001b[1;33m)\u001b[0m\u001b[1;33m\u001b[0m\u001b[1;33m\u001b[0m\u001b[0m\n\u001b[0m",
      "\u001b[1;31mKeyError\u001b[0m: 0"
     ]
    }
   ],
   "source": [
    "province_point_distance = {}\n",
    "for p in provinces:\n",
    "    for c in range(cluster_number):\n",
    "        X_nd = X_year_normalized_average[str(p)]\n",
    "        Y = Y_province[crop + \"_\" + str(p)]\n",
    "        original_rRMSE = rRMSE_degree[crop + \"_\" + str(p) + \"_\" + degree]\n",
    "\n",
    "        province_point_distance[str(p) + \"_\" + str(c)] = distance(coef_group[c], inter_group[c], X_nd, Y, original_rRMSE)"
   ]
  },
  {
   "cell_type": "code",
   "execution_count": null,
   "id": "c8d2c3bb",
   "metadata": {},
   "outputs": [],
   "source": []
  }
 ],
 "metadata": {
  "kernelspec": {
   "display_name": "Python 3 (ipykernel)",
   "language": "python",
   "name": "python3"
  },
  "language_info": {
   "codemirror_mode": {
    "name": "ipython",
    "version": 3
   },
   "file_extension": ".py",
   "mimetype": "text/x-python",
   "name": "python",
   "nbconvert_exporter": "python",
   "pygments_lexer": "ipython3",
   "version": "3.9.7"
  }
 },
 "nbformat": 4,
 "nbformat_minor": 5
}
