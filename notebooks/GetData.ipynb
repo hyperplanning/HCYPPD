{
 "cells": [
  {
   "cell_type": "code",
   "execution_count": 105,
   "id": "0a1beb78",
   "metadata": {},
   "outputs": [],
   "source": [
    "import requests\n",
    "import re\n",
    "import pandas as pd\n",
    "import time\n",
    "import random"
   ]
  },
  {
   "cell_type": "code",
   "execution_count": 106,
   "id": "0a944384",
   "metadata": {},
   "outputs": [],
   "source": [
    "position = pd.read_csv(\"data/raw/postesSynop.csv\", sep=\";\")\n",
    "\n",
    "Id = position[\"ID\"].astype(str)\n",
    "for i in range(len(Id)):\n",
    "    if len(Id[i]) < 5:\n",
    "        Id[i] = '0' + Id[i]"
   ]
  },
  {
   "cell_type": "code",
   "execution_count": 107,
   "id": "53fca68d",
   "metadata": {},
   "outputs": [
    {
     "data": {
      "text/plain": [
       "0     07005\n",
       "1     07015\n",
       "2     07020\n",
       "3     07027\n",
       "4     07037\n",
       "      ...  \n",
       "57    81401\n",
       "58    81405\n",
       "59    81408\n",
       "60    81415\n",
       "61    89642\n",
       "Name: ID, Length: 62, dtype: object"
      ]
     },
     "execution_count": 107,
     "metadata": {},
     "output_type": "execute_result"
    }
   ],
   "source": [
    "Id"
   ]
  },
  {
   "cell_type": "code",
   "execution_count": 108,
   "id": "079f29d2",
   "metadata": {
    "scrolled": true
   },
   "outputs": [],
   "source": [
    "provinces = {}\n",
    "failures = []\n",
    "for i in range(len(Id)):\n",
    "    success = False\n",
    "    failTimes = 0\n",
    "    while not success:\n",
    "        response = requests.get(\"https://www.infoclimat.fr/observations-meteo/temps-reel/paris-met-center/\" + Id[i] + \".html\")\n",
    "        text = response.text\n",
    "        try:\n",
    "            p = re.search('<span class=\"hide-on-small-only\">Département&nbsp;', text).span()[1]\n",
    "            provinces[int(Id[i])] = text[p] + text[p + 1]\n",
    "            success = True\n",
    "        except Exception:\n",
    "            failTimes += 1\n",
    "        time.sleep(random.random() * 5)\n",
    "        if failTimes > 20:\n",
    "            break\n",
    "    if not success:\n",
    "        failures.append(Id[i])"
   ]
  },
  {
   "cell_type": "code",
   "execution_count": 109,
   "id": "db42cb6a",
   "metadata": {},
   "outputs": [],
   "source": [
    "use_provinces = {}\n",
    "for i in provinces.keys():\n",
    "    try:\n",
    "        number = int(provinces[i])\n",
    "        if number <= 95:\n",
    "            use_provinces[i] = number\n",
    "    except Exception:\n",
    "        pass"
   ]
  },
  {
   "cell_type": "code",
   "execution_count": null,
   "id": "8142d597",
   "metadata": {},
   "outputs": [],
   "source": []
  }
 ],
 "metadata": {
  "kernelspec": {
   "display_name": "Python 3 (ipykernel)",
   "language": "python",
   "name": "python3"
  },
  "language_info": {
   "codemirror_mode": {
    "name": "ipython",
    "version": 3
   },
   "file_extension": ".py",
   "mimetype": "text/x-python",
   "name": "python",
   "nbconvert_exporter": "python",
   "pygments_lexer": "ipython3",
   "version": "3.9.7"
  }
 },
 "nbformat": 4,
 "nbformat_minor": 5
}
