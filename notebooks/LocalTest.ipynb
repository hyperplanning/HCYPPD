{
 "cells": [
  {
   "cell_type": "code",
   "execution_count": 1,
   "id": "f841f9c1",
   "metadata": {},
   "outputs": [],
   "source": [
    "import pandas as pd\n",
    "import seaborn as sns\n",
    "import matplotlib.pyplot as plt"
   ]
  },
  {
   "cell_type": "code",
   "execution_count": 2,
   "id": "3de000cb",
   "metadata": {},
   "outputs": [],
   "source": [
    "data = pd.read_parquet(\"C:/Users/ZhipuCUI/Dropbox/PC/Documents/GitHub/HCYPPD/data/raw/france.parquet\")"
   ]
  },
  {
   "cell_type": "code",
   "execution_count": 3,
   "id": "affaaad9",
   "metadata": {},
   "outputs": [],
   "source": [
    "data['date'] = data.index"
   ]
  },
  {
   "cell_type": "code",
   "execution_count": 4,
   "id": "e0b1744d",
   "metadata": {
    "scrolled": true
   },
   "outputs": [
    {
     "data": {
      "text/plain": [
       "array(['rr24', 't', 't_max', 't_min', 't_avg', 'DJ_0', 'cumul_DJ_0',\n",
       "       'DJ_6', 'cumul_DJ_6', 'cumul_rr24', 'id_sta', 'date'], dtype=object)"
      ]
     },
     "execution_count": 4,
     "metadata": {},
     "output_type": "execute_result"
    }
   ],
   "source": [
    "data.columns.values"
   ]
  },
  {
   "cell_type": "code",
   "execution_count": null,
   "id": "bf3026f8",
   "metadata": {},
   "outputs": [],
   "source": []
  },
  {
   "cell_type": "code",
   "execution_count": 5,
   "id": "8a7c9ea5",
   "metadata": {},
   "outputs": [],
   "source": [
    "data_single = data.drop(['cumul_DJ_0', 'cumul_DJ_6', 'cumul_rr24'], axis=1)"
   ]
  },
  {
   "cell_type": "code",
   "execution_count": 6,
   "id": "16ed73b3",
   "metadata": {},
   "outputs": [
    {
     "data": {
      "text/plain": [
       "['rr24', 't', 't_max', 't_min', 't_avg', 'DJ_0', 'DJ_6', 'id_sta', 'date']"
      ]
     },
     "execution_count": 6,
     "metadata": {},
     "output_type": "execute_result"
    }
   ],
   "source": [
    "data_single.columns.values.tolist()"
   ]
  },
  {
   "cell_type": "code",
   "execution_count": 7,
   "id": "b152b794",
   "metadata": {},
   "outputs": [],
   "source": [
    "data_single['year'] = data_single['date'].apply(lambda x: x.year)"
   ]
  },
  {
   "cell_type": "code",
   "execution_count": 8,
   "id": "fccf9f11",
   "metadata": {},
   "outputs": [],
   "source": [
    "data_single = data_single.drop(columns='date')"
   ]
  },
  {
   "cell_type": "code",
   "execution_count": 9,
   "id": "d00cf1fa",
   "metadata": {},
   "outputs": [],
   "source": [
    "data_single['t'] = data_single['t'].apply(lambda x: x - 273.15)"
   ]
  },
  {
   "cell_type": "code",
   "execution_count": null,
   "id": "8aa7e7cd",
   "metadata": {},
   "outputs": [],
   "source": []
  },
  {
   "cell_type": "code",
   "execution_count": 10,
   "id": "41fe6bf8",
   "metadata": {},
   "outputs": [],
   "source": [
    "data_single_temp = data_single.drop(columns='rr24')"
   ]
  },
  {
   "cell_type": "code",
   "execution_count": 11,
   "id": "c07c9a5e",
   "metadata": {},
   "outputs": [],
   "source": [
    "data_single_temp = data_single_temp.melt(id_vars=['id_sta', 'year'])"
   ]
  },
  {
   "cell_type": "code",
   "execution_count": 12,
   "id": "3370e55b",
   "metadata": {},
   "outputs": [
    {
     "data": {
      "text/html": [
       "<div>\n",
       "<style scoped>\n",
       "    .dataframe tbody tr th:only-of-type {\n",
       "        vertical-align: middle;\n",
       "    }\n",
       "\n",
       "    .dataframe tbody tr th {\n",
       "        vertical-align: top;\n",
       "    }\n",
       "\n",
       "    .dataframe thead th {\n",
       "        text-align: right;\n",
       "    }\n",
       "</style>\n",
       "<table border=\"1\" class=\"dataframe\">\n",
       "  <thead>\n",
       "    <tr style=\"text-align: right;\">\n",
       "      <th></th>\n",
       "      <th>id_sta</th>\n",
       "      <th>year</th>\n",
       "      <th>meteo_variable_id</th>\n",
       "      <th>value</th>\n",
       "    </tr>\n",
       "  </thead>\n",
       "  <tbody>\n",
       "    <tr>\n",
       "      <th>0</th>\n",
       "      <td>7005</td>\n",
       "      <td>2017</td>\n",
       "      <td>t</td>\n",
       "      <td>12.40</td>\n",
       "    </tr>\n",
       "    <tr>\n",
       "      <th>1</th>\n",
       "      <td>7005</td>\n",
       "      <td>2017</td>\n",
       "      <td>t</td>\n",
       "      <td>11.70</td>\n",
       "    </tr>\n",
       "    <tr>\n",
       "      <th>2</th>\n",
       "      <td>7005</td>\n",
       "      <td>2017</td>\n",
       "      <td>t</td>\n",
       "      <td>10.60</td>\n",
       "    </tr>\n",
       "    <tr>\n",
       "      <th>3</th>\n",
       "      <td>7005</td>\n",
       "      <td>2017</td>\n",
       "      <td>t</td>\n",
       "      <td>14.60</td>\n",
       "    </tr>\n",
       "    <tr>\n",
       "      <th>4</th>\n",
       "      <td>7005</td>\n",
       "      <td>2017</td>\n",
       "      <td>t</td>\n",
       "      <td>17.70</td>\n",
       "    </tr>\n",
       "    <tr>\n",
       "      <th>...</th>\n",
       "      <td>...</td>\n",
       "      <td>...</td>\n",
       "      <td>...</td>\n",
       "      <td>...</td>\n",
       "    </tr>\n",
       "    <tr>\n",
       "      <th>437305</th>\n",
       "      <td>7790</td>\n",
       "      <td>2022</td>\n",
       "      <td>DJ_6</td>\n",
       "      <td>15.35</td>\n",
       "    </tr>\n",
       "    <tr>\n",
       "      <th>437306</th>\n",
       "      <td>7790</td>\n",
       "      <td>2022</td>\n",
       "      <td>DJ_6</td>\n",
       "      <td>16.35</td>\n",
       "    </tr>\n",
       "    <tr>\n",
       "      <th>437307</th>\n",
       "      <td>7790</td>\n",
       "      <td>2022</td>\n",
       "      <td>DJ_6</td>\n",
       "      <td>16.50</td>\n",
       "    </tr>\n",
       "    <tr>\n",
       "      <th>437308</th>\n",
       "      <td>7790</td>\n",
       "      <td>2022</td>\n",
       "      <td>DJ_6</td>\n",
       "      <td>16.75</td>\n",
       "    </tr>\n",
       "    <tr>\n",
       "      <th>437309</th>\n",
       "      <td>7790</td>\n",
       "      <td>2022</td>\n",
       "      <td>DJ_6</td>\n",
       "      <td>14.95</td>\n",
       "    </tr>\n",
       "  </tbody>\n",
       "</table>\n",
       "<p>437310 rows × 4 columns</p>\n",
       "</div>"
      ],
      "text/plain": [
       "        id_sta  year meteo_variable_id  value\n",
       "0         7005  2017                 t  12.40\n",
       "1         7005  2017                 t  11.70\n",
       "2         7005  2017                 t  10.60\n",
       "3         7005  2017                 t  14.60\n",
       "4         7005  2017                 t  17.70\n",
       "...        ...   ...               ...    ...\n",
       "437305    7790  2022              DJ_6  15.35\n",
       "437306    7790  2022              DJ_6  16.35\n",
       "437307    7790  2022              DJ_6  16.50\n",
       "437308    7790  2022              DJ_6  16.75\n",
       "437309    7790  2022              DJ_6  14.95\n",
       "\n",
       "[437310 rows x 4 columns]"
      ]
     },
     "execution_count": 12,
     "metadata": {},
     "output_type": "execute_result"
    }
   ],
   "source": [
    "data_single_temp"
   ]
  },
  {
   "cell_type": "code",
   "execution_count": 13,
   "id": "f437502a",
   "metadata": {},
   "outputs": [
    {
     "data": {
      "text/plain": [
       "<AxesSubplot:xlabel='meteo_variable_id', ylabel='value'>"
      ]
     },
     "execution_count": 13,
     "metadata": {},
     "output_type": "execute_result"
    },
    {
     "data": {
      "image/png": "[encoded data removed]",
      "text/plain": [
       "<Figure size 1080x360 with 1 Axes>"
      ]
     },
     "metadata": {
      "needs_background": "light"
     },
     "output_type": "display_data"
    }
   ],
   "source": [
    "fig, ax = plt.subplots(1, 1, figsize=(15, 5))\n",
    "sns.boxplot(data=data_single_temp, x='meteo_variable_id', hue='year', y='value', ax=ax)"
   ]
  },
  {
   "cell_type": "code",
   "execution_count": null,
   "id": "9fbe0e36",
   "metadata": {},
   "outputs": [],
   "source": []
  },
  {
   "cell_type": "code",
   "execution_count": 14,
   "id": "9fbde3ac",
   "metadata": {},
   "outputs": [],
   "source": [
    "data_single_rain = data_single.drop(['t', 't_max', 't_min', 't_avg', 'DJ_0', 'DJ_6'], axis=1)"
   ]
  },
  {
   "cell_type": "code",
   "execution_count": 15,
   "id": "eab4cd0e",
   "metadata": {},
   "outputs": [],
   "source": [
    "data_single_rain = data_single_rain.melt(id_vars=['id_sta', 'year'])"
   ]
  },
  {
   "cell_type": "code",
   "execution_count": 16,
   "id": "46b1a0aa",
   "metadata": {},
   "outputs": [
    {
     "data": {
      "text/html": [
       "<div>\n",
       "<style scoped>\n",
       "    .dataframe tbody tr th:only-of-type {\n",
       "        vertical-align: middle;\n",
       "    }\n",
       "\n",
       "    .dataframe tbody tr th {\n",
       "        vertical-align: top;\n",
       "    }\n",
       "\n",
       "    .dataframe thead th {\n",
       "        text-align: right;\n",
       "    }\n",
       "</style>\n",
       "<table border=\"1\" class=\"dataframe\">\n",
       "  <thead>\n",
       "    <tr style=\"text-align: right;\">\n",
       "      <th></th>\n",
       "      <th>id_sta</th>\n",
       "      <th>year</th>\n",
       "      <th>meteo_variable_id</th>\n",
       "      <th>value</th>\n",
       "    </tr>\n",
       "  </thead>\n",
       "  <tbody>\n",
       "    <tr>\n",
       "      <th>0</th>\n",
       "      <td>7005</td>\n",
       "      <td>2017</td>\n",
       "      <td>rr24</td>\n",
       "      <td>2.857143</td>\n",
       "    </tr>\n",
       "    <tr>\n",
       "      <th>1</th>\n",
       "      <td>7005</td>\n",
       "      <td>2017</td>\n",
       "      <td>rr24</td>\n",
       "      <td>4.925000</td>\n",
       "    </tr>\n",
       "    <tr>\n",
       "      <th>2</th>\n",
       "      <td>7005</td>\n",
       "      <td>2017</td>\n",
       "      <td>rr24</td>\n",
       "      <td>2.175000</td>\n",
       "    </tr>\n",
       "    <tr>\n",
       "      <th>3</th>\n",
       "      <td>7005</td>\n",
       "      <td>2017</td>\n",
       "      <td>rr24</td>\n",
       "      <td>0.775000</td>\n",
       "    </tr>\n",
       "    <tr>\n",
       "      <th>4</th>\n",
       "      <td>7005</td>\n",
       "      <td>2017</td>\n",
       "      <td>rr24</td>\n",
       "      <td>0.087500</td>\n",
       "    </tr>\n",
       "    <tr>\n",
       "      <th>...</th>\n",
       "      <td>...</td>\n",
       "      <td>...</td>\n",
       "      <td>...</td>\n",
       "      <td>...</td>\n",
       "    </tr>\n",
       "    <tr>\n",
       "      <th>72880</th>\n",
       "      <td>7790</td>\n",
       "      <td>2022</td>\n",
       "      <td>rr24</td>\n",
       "      <td>-0.037500</td>\n",
       "    </tr>\n",
       "    <tr>\n",
       "      <th>72881</th>\n",
       "      <td>7790</td>\n",
       "      <td>2022</td>\n",
       "      <td>rr24</td>\n",
       "      <td>0.125000</td>\n",
       "    </tr>\n",
       "    <tr>\n",
       "      <th>72882</th>\n",
       "      <td>7790</td>\n",
       "      <td>2022</td>\n",
       "      <td>rr24</td>\n",
       "      <td>0.050000</td>\n",
       "    </tr>\n",
       "    <tr>\n",
       "      <th>72883</th>\n",
       "      <td>7790</td>\n",
       "      <td>2022</td>\n",
       "      <td>rr24</td>\n",
       "      <td>0.175000</td>\n",
       "    </tr>\n",
       "    <tr>\n",
       "      <th>72884</th>\n",
       "      <td>7790</td>\n",
       "      <td>2022</td>\n",
       "      <td>rr24</td>\n",
       "      <td>0.000000</td>\n",
       "    </tr>\n",
       "  </tbody>\n",
       "</table>\n",
       "<p>72885 rows × 4 columns</p>\n",
       "</div>"
      ],
      "text/plain": [
       "       id_sta  year meteo_variable_id     value\n",
       "0        7005  2017              rr24  2.857143\n",
       "1        7005  2017              rr24  4.925000\n",
       "2        7005  2017              rr24  2.175000\n",
       "3        7005  2017              rr24  0.775000\n",
       "4        7005  2017              rr24  0.087500\n",
       "...       ...   ...               ...       ...\n",
       "72880    7790  2022              rr24 -0.037500\n",
       "72881    7790  2022              rr24  0.125000\n",
       "72882    7790  2022              rr24  0.050000\n",
       "72883    7790  2022              rr24  0.175000\n",
       "72884    7790  2022              rr24  0.000000\n",
       "\n",
       "[72885 rows x 4 columns]"
      ]
     },
     "execution_count": 16,
     "metadata": {},
     "output_type": "execute_result"
    }
   ],
   "source": [
    "data_single_rain"
   ]
  },
  {
   "cell_type": "code",
   "execution_count": 17,
   "id": "a1952a67",
   "metadata": {
    "scrolled": false
   },
   "outputs": [
    {
     "data": {
      "text/plain": [
       "<AxesSubplot:xlabel='meteo_variable_id', ylabel='value'>"
      ]
     },
     "execution_count": 17,
     "metadata": {},
     "output_type": "execute_result"
    },
    {
     "data": {
      "image/png": "[encoded data removed]",
      "text/plain": [
       "<Figure size 1080x360 with 1 Axes>"
      ]
     },
     "metadata": {
      "needs_background": "light"
     },
     "output_type": "display_data"
    }
   ],
   "source": [
    "fig, ax = plt.subplots(1, 1, figsize=(15, 5))\n",
    "sns.boxplot(data=data_single_rain, x='meteo_variable_id', hue='year', y='value', ax=ax)"
   ]
  },
  {
   "cell_type": "code",
   "execution_count": null,
   "id": "37b5c929",
   "metadata": {},
   "outputs": [],
   "source": []
  },
  {
   "cell_type": "code",
   "execution_count": 18,
   "id": "dca71fce",
   "metadata": {},
   "outputs": [],
   "source": [
    "valueList = data_single_rain['value'].tolist()\n",
    "valueList.sort()\n",
    "thresholds = []\n",
    "for i in range(100):\n",
    "    threshold = valueList[int(len(valueList) * (0.99 + i * 0.0001))]\n",
    "    thresholds.append(threshold)"
   ]
  },
  {
   "cell_type": "code",
   "execution_count": 19,
   "id": "32b65ac9",
   "metadata": {},
   "outputs": [
    {
     "data": {
      "text/plain": [
       "[<matplotlib.lines.Line2D at 0x23fc7aa6a90>]"
      ]
     },
     "execution_count": 19,
     "metadata": {},
     "output_type": "execute_result"
    },
    {
     "data": {
      "image/png": "[encoded data removed]",
      "text/plain": [
       "<Figure size 1080x360 with 1 Axes>"
      ]
     },
     "metadata": {
      "needs_background": "light"
     },
     "output_type": "display_data"
    }
   ],
   "source": [
    "x = [i for i in range(100)]\n",
    "fig, ax = plt.subplots(1, 1, figsize=(15, 5))\n",
    "plt.plot(x, thresholds)"
   ]
  },
  {
   "cell_type": "code",
   "execution_count": 20,
   "id": "cd5fd2b5",
   "metadata": {},
   "outputs": [],
   "source": [
    "diff_thresholds = [thresholds[i + 1] - thresholds[i] for i in range(99)]"
   ]
  },
  {
   "cell_type": "code",
   "execution_count": 21,
   "id": "ca839d21",
   "metadata": {},
   "outputs": [
    {
     "data": {
      "text/plain": [
       "[<matplotlib.lines.Line2D at 0x23fc7da6520>]"
      ]
     },
     "execution_count": 21,
     "metadata": {},
     "output_type": "execute_result"
    },
    {
     "data": {
      "image/png": "[encoded data removed]",
      "text/plain": [
       "<Figure size 1080x360 with 1 Axes>"
      ]
     },
     "metadata": {
      "needs_background": "light"
     },
     "output_type": "display_data"
    }
   ],
   "source": [
    "dx = [i for i in range(99)]\n",
    "fig, ax = plt.subplots(1, 1, figsize=(15, 5))\n",
    "plt.plot(dx, diff_thresholds)"
   ]
  },
  {
   "cell_type": "code",
   "execution_count": 22,
   "id": "e8dbec79",
   "metadata": {},
   "outputs": [],
   "source": [
    "diff_thresholds_10 = []\n",
    "for i in range(90):\n",
    "    sum = 0\n",
    "    for j in range(i, i + 10):\n",
    "        sum += diff_thresholds[j]\n",
    "    diff_thresholds_10.append(sum / 10.0)"
   ]
  },
  {
   "cell_type": "code",
   "execution_count": 23,
   "id": "8e4a8ea4",
   "metadata": {},
   "outputs": [
    {
     "data": {
      "text/plain": [
       "[<matplotlib.lines.Line2D at 0x23fc7dd41c0>]"
      ]
     },
     "execution_count": 23,
     "metadata": {},
     "output_type": "execute_result"
    },
    {
     "data": {
      "image/png": "[encoded data removed]",
      "text/plain": [
       "<Figure size 1080x360 with 1 Axes>"
      ]
     },
     "metadata": {
      "needs_background": "light"
     },
     "output_type": "display_data"
    }
   ],
   "source": [
    "dx_10 = [i for i in range(90)]\n",
    "fig, ax = plt.subplots(1, 1, figsize=(15, 5))\n",
    "plt.plot(dx_10, diff_thresholds_10)"
   ]
  },
  {
   "cell_type": "code",
   "execution_count": null,
   "id": "be0556f8",
   "metadata": {},
   "outputs": [],
   "source": []
  },
  {
   "cell_type": "code",
   "execution_count": 24,
   "id": "3f7193e3",
   "metadata": {},
   "outputs": [],
   "source": [
    "threshold = valueList[int(len(valueList) * 0.997)]"
   ]
  },
  {
   "cell_type": "code",
   "execution_count": 25,
   "id": "ea36253f",
   "metadata": {},
   "outputs": [],
   "source": [
    "data_single_rain_997 = data_single_rain[data_single_rain['value'] < threshold]"
   ]
  },
  {
   "cell_type": "code",
   "execution_count": 26,
   "id": "876eb601",
   "metadata": {},
   "outputs": [
    {
     "data": {
      "text/plain": [
       "<AxesSubplot:ylabel='Frequency'>"
      ]
     },
     "execution_count": 26,
     "metadata": {},
     "output_type": "execute_result"
    },
    {
     "data": {
      "image/png": "[encoded data removed]",
      "text/plain": [
       "<Figure size 1080x360 with 1 Axes>"
      ]
     },
     "metadata": {
      "needs_background": "light"
     },
     "output_type": "display_data"
    }
   ],
   "source": [
    "fig, ax = plt.subplots(1, 1, figsize=(15, 5))\n",
    "data_single_rain_997['value'].plot.hist(bins=10)"
   ]
  },
  {
   "cell_type": "code",
   "execution_count": 27,
   "id": "c4c40e6b",
   "metadata": {},
   "outputs": [
    {
     "data": {
      "text/plain": [
       "<AxesSubplot:xlabel='meteo_variable_id', ylabel='value'>"
      ]
     },
     "execution_count": 27,
     "metadata": {},
     "output_type": "execute_result"
    },
    {
     "data": {
      "image/png": "[encoded data removed]",
      "text/plain": [
       "<Figure size 1080x360 with 1 Axes>"
      ]
     },
     "metadata": {
      "needs_background": "light"
     },
     "output_type": "display_data"
    }
   ],
   "source": [
    "fig, ax = plt.subplots(1, 1, figsize=(15, 5))\n",
    "sns.boxplot(data=data_single_rain_997, x='meteo_variable_id', hue='year', y='value', ax=ax)"
   ]
  },
  {
   "cell_type": "code",
   "execution_count": null,
   "id": "dcec7680",
   "metadata": {},
   "outputs": [],
   "source": []
  },
  {
   "cell_type": "code",
   "execution_count": 28,
   "id": "3752684d",
   "metadata": {},
   "outputs": [],
   "source": [
    "data_single_rain_positive = data_single_rain[data_single_rain['value'] > 0.00001]\n",
    "data_single_rain_negative = data_single_rain[data_single_rain['value'] < -0.00001]"
   ]
  },
  {
   "cell_type": "code",
   "execution_count": 29,
   "id": "042cb7be",
   "metadata": {},
   "outputs": [],
   "source": [
    "data_no_zero = [data_single_rain_positive, data_single_rain_negative]\n",
    "data_no_zero = pd.concat(data_no_zero)"
   ]
  },
  {
   "cell_type": "code",
   "execution_count": null,
   "id": "8eec9de7",
   "metadata": {},
   "outputs": [],
   "source": []
  },
  {
   "cell_type": "code",
   "execution_count": 30,
   "id": "8ba446c4",
   "metadata": {},
   "outputs": [],
   "source": [
    "valueList = data_no_zero['value'].tolist()\n",
    "valueList.sort()\n",
    "thresholds = []\n",
    "for i in range(200):\n",
    "    threshold = valueList[int(len(valueList) * (0.8 + i * 0.001))]\n",
    "    thresholds.append(threshold)"
   ]
  },
  {
   "cell_type": "code",
   "execution_count": 31,
   "id": "431d8027",
   "metadata": {
    "scrolled": true
   },
   "outputs": [],
   "source": [
    "diff_thresholds = [thresholds[i + 1] - thresholds[i] for i in range(199)]\n",
    "diff_thresholds_20 = []\n",
    "for i in range(180):\n",
    "    sum = 0\n",
    "    for j in range(i, i + 20):\n",
    "        sum += diff_thresholds[j]\n",
    "    diff_thresholds_20.append(sum / 20.0)"
   ]
  },
  {
   "cell_type": "code",
   "execution_count": 32,
   "id": "8e0467a9",
   "metadata": {},
   "outputs": [
    {
     "data": {
      "text/plain": [
       "[<matplotlib.lines.Line2D at 0x23fca37a490>]"
      ]
     },
     "execution_count": 32,
     "metadata": {},
     "output_type": "execute_result"
    },
    {
     "data": {
      "image/png": "[encoded data removed]",
      "text/plain": [
       "<Figure size 1080x360 with 1 Axes>"
      ]
     },
     "metadata": {
      "needs_background": "light"
     },
     "output_type": "display_data"
    }
   ],
   "source": [
    "dx_20 = [i for i in range(180)]\n",
    "fig, ax = plt.subplots(1, 1, figsize=(15, 5))\n",
    "plt.plot(dx_20, diff_thresholds_20)"
   ]
  },
  {
   "cell_type": "code",
   "execution_count": null,
   "id": "df1ec336",
   "metadata": {},
   "outputs": [],
   "source": []
  },
  {
   "cell_type": "code",
   "execution_count": 33,
   "id": "5228c5c6",
   "metadata": {},
   "outputs": [],
   "source": [
    "threshold = valueList[int(len(valueList) * 0.95)]\n",
    "data_no_zero_95 = data_no_zero[data_no_zero['value'] < threshold]"
   ]
  },
  {
   "cell_type": "code",
   "execution_count": 34,
   "id": "85c9e71a",
   "metadata": {},
   "outputs": [
    {
     "data": {
      "text/plain": [
       "<AxesSubplot:xlabel='meteo_variable_id', ylabel='value'>"
      ]
     },
     "execution_count": 34,
     "metadata": {},
     "output_type": "execute_result"
    },
    {
     "data": {
      "image/png": "[encoded data removed]",
      "text/plain": [
       "<Figure size 1080x360 with 1 Axes>"
      ]
     },
     "metadata": {
      "needs_background": "light"
     },
     "output_type": "display_data"
    }
   ],
   "source": [
    "fig, ax = plt.subplots(1, 1, figsize=(15, 5))\n",
    "sns.boxplot(data=data_no_zero_95, x='meteo_variable_id', hue='year', y='value', ax=ax)"
   ]
  },
  {
   "cell_type": "code",
   "execution_count": null,
   "id": "847ca9ba",
   "metadata": {},
   "outputs": [],
   "source": []
  },
  {
   "cell_type": "code",
   "execution_count": 35,
   "id": "1199cee5",
   "metadata": {},
   "outputs": [],
   "source": [
    "data_single_rain_positive = data_single_rain[data_single_rain['value'] > 0.00001]"
   ]
  },
  {
   "cell_type": "code",
   "execution_count": 36,
   "id": "7ab0b550",
   "metadata": {
    "scrolled": false
   },
   "outputs": [
    {
     "data": {
      "text/html": [
       "<div>\n",
       "<style scoped>\n",
       "    .dataframe tbody tr th:only-of-type {\n",
       "        vertical-align: middle;\n",
       "    }\n",
       "\n",
       "    .dataframe tbody tr th {\n",
       "        vertical-align: top;\n",
       "    }\n",
       "\n",
       "    .dataframe thead th {\n",
       "        text-align: right;\n",
       "    }\n",
       "</style>\n",
       "<table border=\"1\" class=\"dataframe\">\n",
       "  <thead>\n",
       "    <tr style=\"text-align: right;\">\n",
       "      <th></th>\n",
       "      <th>id_sta</th>\n",
       "      <th>year</th>\n",
       "      <th>meteo_variable_id</th>\n",
       "      <th>value</th>\n",
       "    </tr>\n",
       "  </thead>\n",
       "  <tbody>\n",
       "    <tr>\n",
       "      <th>0</th>\n",
       "      <td>7005</td>\n",
       "      <td>2017</td>\n",
       "      <td>rr24</td>\n",
       "      <td>2.857143</td>\n",
       "    </tr>\n",
       "    <tr>\n",
       "      <th>1</th>\n",
       "      <td>7005</td>\n",
       "      <td>2017</td>\n",
       "      <td>rr24</td>\n",
       "      <td>4.925000</td>\n",
       "    </tr>\n",
       "    <tr>\n",
       "      <th>2</th>\n",
       "      <td>7005</td>\n",
       "      <td>2017</td>\n",
       "      <td>rr24</td>\n",
       "      <td>2.175000</td>\n",
       "    </tr>\n",
       "    <tr>\n",
       "      <th>3</th>\n",
       "      <td>7005</td>\n",
       "      <td>2017</td>\n",
       "      <td>rr24</td>\n",
       "      <td>0.775000</td>\n",
       "    </tr>\n",
       "    <tr>\n",
       "      <th>4</th>\n",
       "      <td>7005</td>\n",
       "      <td>2017</td>\n",
       "      <td>rr24</td>\n",
       "      <td>0.087500</td>\n",
       "    </tr>\n",
       "    <tr>\n",
       "      <th>...</th>\n",
       "      <td>...</td>\n",
       "      <td>...</td>\n",
       "      <td>...</td>\n",
       "      <td>...</td>\n",
       "    </tr>\n",
       "    <tr>\n",
       "      <th>72858</th>\n",
       "      <td>7790</td>\n",
       "      <td>2022</td>\n",
       "      <td>rr24</td>\n",
       "      <td>0.150000</td>\n",
       "    </tr>\n",
       "    <tr>\n",
       "      <th>72859</th>\n",
       "      <td>7790</td>\n",
       "      <td>2022</td>\n",
       "      <td>rr24</td>\n",
       "      <td>0.325000</td>\n",
       "    </tr>\n",
       "    <tr>\n",
       "      <th>72881</th>\n",
       "      <td>7790</td>\n",
       "      <td>2022</td>\n",
       "      <td>rr24</td>\n",
       "      <td>0.125000</td>\n",
       "    </tr>\n",
       "    <tr>\n",
       "      <th>72882</th>\n",
       "      <td>7790</td>\n",
       "      <td>2022</td>\n",
       "      <td>rr24</td>\n",
       "      <td>0.050000</td>\n",
       "    </tr>\n",
       "    <tr>\n",
       "      <th>72883</th>\n",
       "      <td>7790</td>\n",
       "      <td>2022</td>\n",
       "      <td>rr24</td>\n",
       "      <td>0.175000</td>\n",
       "    </tr>\n",
       "  </tbody>\n",
       "</table>\n",
       "<p>40971 rows × 4 columns</p>\n",
       "</div>"
      ],
      "text/plain": [
       "       id_sta  year meteo_variable_id     value\n",
       "0        7005  2017              rr24  2.857143\n",
       "1        7005  2017              rr24  4.925000\n",
       "2        7005  2017              rr24  2.175000\n",
       "3        7005  2017              rr24  0.775000\n",
       "4        7005  2017              rr24  0.087500\n",
       "...       ...   ...               ...       ...\n",
       "72858    7790  2022              rr24  0.150000\n",
       "72859    7790  2022              rr24  0.325000\n",
       "72881    7790  2022              rr24  0.125000\n",
       "72882    7790  2022              rr24  0.050000\n",
       "72883    7790  2022              rr24  0.175000\n",
       "\n",
       "[40971 rows x 4 columns]"
      ]
     },
     "execution_count": 36,
     "metadata": {},
     "output_type": "execute_result"
    }
   ],
   "source": [
    "data_single_rain_positive"
   ]
  },
  {
   "cell_type": "code",
   "execution_count": null,
   "id": "c32f2a13",
   "metadata": {},
   "outputs": [],
   "source": []
  },
  {
   "cell_type": "code",
   "execution_count": 37,
   "id": "52378f0a",
   "metadata": {},
   "outputs": [],
   "source": [
    "data_single_rain_positive_1 = data_single_rain_positive[data_single_rain_positive['value'] < 1]"
   ]
  },
  {
   "cell_type": "code",
   "execution_count": 38,
   "id": "2f102379",
   "metadata": {
    "scrolled": true
   },
   "outputs": [
    {
     "data": {
      "text/plain": [
       "<AxesSubplot:ylabel='Frequency'>"
      ]
     },
     "execution_count": 38,
     "metadata": {},
     "output_type": "execute_result"
    },
    {
     "data": {
      "image/png": "[encoded data removed]",
      "text/plain": [
       "<Figure size 432x288 with 1 Axes>"
      ]
     },
     "metadata": {
      "needs_background": "light"
     },
     "output_type": "display_data"
    }
   ],
   "source": [
    "data_single_rain_positive_1['value'].plot.hist(bins=10)"
   ]
  },
  {
   "cell_type": "code",
   "execution_count": 39,
   "id": "a295b88f",
   "metadata": {
    "scrolled": true
   },
   "outputs": [
    {
     "data": {
      "text/plain": [
       "<AxesSubplot:xlabel='meteo_variable_id', ylabel='value'>"
      ]
     },
     "execution_count": 39,
     "metadata": {},
     "output_type": "execute_result"
    },
    {
     "data": {
      "image/png": "[encoded data removed]",
      "text/plain": [
       "<Figure size 1080x360 with 1 Axes>"
      ]
     },
     "metadata": {
      "needs_background": "light"
     },
     "output_type": "display_data"
    }
   ],
   "source": [
    "fig, ax = plt.subplots(1, 1, figsize=(15, 5))\n",
    "sns.boxplot(data=data_single_rain_positive_1, x='meteo_variable_id', hue='year', y='value', ax=ax)"
   ]
  },
  {
   "cell_type": "code",
   "execution_count": null,
   "id": "8295d6f0",
   "metadata": {},
   "outputs": [],
   "source": []
  },
  {
   "cell_type": "code",
   "execution_count": 40,
   "id": "82482bfa",
   "metadata": {},
   "outputs": [],
   "source": [
    "data_single_rain_positive_10 = data_single_rain_positive[data_single_rain_positive['value'] > 1]\n",
    "data_single_rain_positive_10 = data_single_rain_positive_10[data_single_rain_positive_10['value'] < 10]"
   ]
  },
  {
   "cell_type": "code",
   "execution_count": 41,
   "id": "4de9314f",
   "metadata": {},
   "outputs": [
    {
     "data": {
      "text/plain": [
       "<AxesSubplot:ylabel='Frequency'>"
      ]
     },
     "execution_count": 41,
     "metadata": {},
     "output_type": "execute_result"
    },
    {
     "data": {
      "image/png": "[encoded data removed]",
      "text/plain": [
       "<Figure size 432x288 with 1 Axes>"
      ]
     },
     "metadata": {
      "needs_background": "light"
     },
     "output_type": "display_data"
    }
   ],
   "source": [
    "data_single_rain_positive_10['value'].plot.hist(bins=10)"
   ]
  },
  {
   "cell_type": "code",
   "execution_count": 42,
   "id": "f0df4219",
   "metadata": {},
   "outputs": [
    {
     "data": {
      "text/plain": [
       "<AxesSubplot:xlabel='meteo_variable_id', ylabel='value'>"
      ]
     },
     "execution_count": 42,
     "metadata": {},
     "output_type": "execute_result"
    },
    {
     "data": {
      "image/png": "[encoded data removed]",
      "text/plain": [
       "<Figure size 1080x360 with 1 Axes>"
      ]
     },
     "metadata": {
      "needs_background": "light"
     },
     "output_type": "display_data"
    }
   ],
   "source": [
    "fig, ax = plt.subplots(1, 1, figsize=(15, 5))\n",
    "sns.boxplot(data=data_single_rain_positive_10, x='meteo_variable_id', hue='year', y='value', ax=ax)"
   ]
  },
  {
   "cell_type": "code",
   "execution_count": null,
   "id": "faae0f48",
   "metadata": {},
   "outputs": [],
   "source": []
  },
  {
   "cell_type": "code",
   "execution_count": 43,
   "id": "106f722b",
   "metadata": {},
   "outputs": [],
   "source": [
    "data_single_rain_positive_20 = data_single_rain_positive[data_single_rain_positive['value'] > 10]\n",
    "data_single_rain_positive_20 = data_single_rain_positive_20[data_single_rain_positive_20['value'] < 20]"
   ]
  },
  {
   "cell_type": "code",
   "execution_count": 44,
   "id": "f10a0ea1",
   "metadata": {},
   "outputs": [
    {
     "data": {
      "text/plain": [
       "<AxesSubplot:ylabel='Frequency'>"
      ]
     },
     "execution_count": 44,
     "metadata": {},
     "output_type": "execute_result"
    },
    {
     "data": {
      "image/png": "[encoded data removed]",
      "text/plain": [
       "<Figure size 432x288 with 1 Axes>"
      ]
     },
     "metadata": {
      "needs_background": "light"
     },
     "output_type": "display_data"
    }
   ],
   "source": [
    "data_single_rain_positive_20['value'].plot.hist(bins=10)"
   ]
  },
  {
   "cell_type": "code",
   "execution_count": 45,
   "id": "5c66a9ca",
   "metadata": {},
   "outputs": [
    {
     "data": {
      "text/plain": [
       "<AxesSubplot:xlabel='meteo_variable_id', ylabel='value'>"
      ]
     },
     "execution_count": 45,
     "metadata": {},
     "output_type": "execute_result"
    },
    {
     "data": {
      "image/png": "[encoded data removed]",
      "text/plain": [
       "<Figure size 1080x360 with 1 Axes>"
      ]
     },
     "metadata": {
      "needs_background": "light"
     },
     "output_type": "display_data"
    }
   ],
   "source": [
    "fig, ax = plt.subplots(1, 1, figsize=(15, 5))\n",
    "sns.boxplot(data=data_single_rain_positive_20, x='meteo_variable_id', hue='year', y='value', ax=ax)"
   ]
  },
  {
   "cell_type": "code",
   "execution_count": null,
   "id": "c211a2fc",
   "metadata": {},
   "outputs": [],
   "source": []
  },
  {
   "cell_type": "code",
   "execution_count": 46,
   "id": "2795eb66",
   "metadata": {},
   "outputs": [],
   "source": [
    "data_single_rain_positive_others = data_single_rain_positive[data_single_rain_positive['value'] > 20]"
   ]
  },
  {
   "cell_type": "code",
   "execution_count": 47,
   "id": "f64cb7a3",
   "metadata": {},
   "outputs": [
    {
     "data": {
      "text/plain": [
       "<AxesSubplot:ylabel='Frequency'>"
      ]
     },
     "execution_count": 47,
     "metadata": {},
     "output_type": "execute_result"
    },
    {
     "data": {
      "image/png": "[encoded data removed]",
      "text/plain": [
       "<Figure size 432x288 with 1 Axes>"
      ]
     },
     "metadata": {
      "needs_background": "light"
     },
     "output_type": "display_data"
    }
   ],
   "source": [
    "data_single_rain_positive_others['value'].plot.hist(bins=10)"
   ]
  },
  {
   "cell_type": "code",
   "execution_count": 48,
   "id": "4a0a740d",
   "metadata": {
    "scrolled": true
   },
   "outputs": [
    {
     "data": {
      "text/plain": [
       "<AxesSubplot:xlabel='meteo_variable_id', ylabel='value'>"
      ]
     },
     "execution_count": 48,
     "metadata": {},
     "output_type": "execute_result"
    },
    {
     "data": {
      "image/png": "[encoded data removed]",
      "text/plain": [
       "<Figure size 1080x360 with 1 Axes>"
      ]
     },
     "metadata": {
      "needs_background": "light"
     },
     "output_type": "display_data"
    }
   ],
   "source": [
    "fig, ax = plt.subplots(1, 1, figsize=(15, 5))\n",
    "sns.boxplot(data=data_single_rain_positive_others, x='meteo_variable_id', hue='year', y='value', ax=ax)"
   ]
  },
  {
   "cell_type": "code",
   "execution_count": null,
   "id": "7a690792",
   "metadata": {},
   "outputs": [],
   "source": []
  },
  {
   "cell_type": "code",
   "execution_count": 49,
   "id": "24a6f352",
   "metadata": {},
   "outputs": [],
   "source": [
    "data_single_rain_negative = data_single_rain[data_single_rain['value'] < -0.00001]"
   ]
  },
  {
   "cell_type": "code",
   "execution_count": 50,
   "id": "6e1c6543",
   "metadata": {
    "scrolled": false
   },
   "outputs": [
    {
     "data": {
      "text/html": [
       "<div>\n",
       "<style scoped>\n",
       "    .dataframe tbody tr th:only-of-type {\n",
       "        vertical-align: middle;\n",
       "    }\n",
       "\n",
       "    .dataframe tbody tr th {\n",
       "        vertical-align: top;\n",
       "    }\n",
       "\n",
       "    .dataframe thead th {\n",
       "        text-align: right;\n",
       "    }\n",
       "</style>\n",
       "<table border=\"1\" class=\"dataframe\">\n",
       "  <thead>\n",
       "    <tr style=\"text-align: right;\">\n",
       "      <th></th>\n",
       "      <th>id_sta</th>\n",
       "      <th>year</th>\n",
       "      <th>meteo_variable_id</th>\n",
       "      <th>value</th>\n",
       "    </tr>\n",
       "  </thead>\n",
       "  <tbody>\n",
       "    <tr>\n",
       "      <th>21</th>\n",
       "      <td>7005</td>\n",
       "      <td>2017</td>\n",
       "      <td>rr24</td>\n",
       "      <td>-0.0625</td>\n",
       "    </tr>\n",
       "    <tr>\n",
       "      <th>24</th>\n",
       "      <td>7005</td>\n",
       "      <td>2017</td>\n",
       "      <td>rr24</td>\n",
       "      <td>-0.0625</td>\n",
       "    </tr>\n",
       "    <tr>\n",
       "      <th>55</th>\n",
       "      <td>7005</td>\n",
       "      <td>2017</td>\n",
       "      <td>rr24</td>\n",
       "      <td>-0.0625</td>\n",
       "    </tr>\n",
       "    <tr>\n",
       "      <th>62</th>\n",
       "      <td>7005</td>\n",
       "      <td>2017</td>\n",
       "      <td>rr24</td>\n",
       "      <td>-0.0250</td>\n",
       "    </tr>\n",
       "    <tr>\n",
       "      <th>74</th>\n",
       "      <td>7005</td>\n",
       "      <td>2017</td>\n",
       "      <td>rr24</td>\n",
       "      <td>-0.0600</td>\n",
       "    </tr>\n",
       "    <tr>\n",
       "      <th>...</th>\n",
       "      <td>...</td>\n",
       "      <td>...</td>\n",
       "      <td>...</td>\n",
       "      <td>...</td>\n",
       "    </tr>\n",
       "    <tr>\n",
       "      <th>72764</th>\n",
       "      <td>7790</td>\n",
       "      <td>2022</td>\n",
       "      <td>rr24</td>\n",
       "      <td>-0.0250</td>\n",
       "    </tr>\n",
       "    <tr>\n",
       "      <th>72765</th>\n",
       "      <td>7790</td>\n",
       "      <td>2022</td>\n",
       "      <td>rr24</td>\n",
       "      <td>-0.0750</td>\n",
       "    </tr>\n",
       "    <tr>\n",
       "      <th>72782</th>\n",
       "      <td>7790</td>\n",
       "      <td>2022</td>\n",
       "      <td>rr24</td>\n",
       "      <td>-0.0250</td>\n",
       "    </tr>\n",
       "    <tr>\n",
       "      <th>72783</th>\n",
       "      <td>7790</td>\n",
       "      <td>2022</td>\n",
       "      <td>rr24</td>\n",
       "      <td>-0.0750</td>\n",
       "    </tr>\n",
       "    <tr>\n",
       "      <th>72880</th>\n",
       "      <td>7790</td>\n",
       "      <td>2022</td>\n",
       "      <td>rr24</td>\n",
       "      <td>-0.0375</td>\n",
       "    </tr>\n",
       "  </tbody>\n",
       "</table>\n",
       "<p>6968 rows × 4 columns</p>\n",
       "</div>"
      ],
      "text/plain": [
       "       id_sta  year meteo_variable_id   value\n",
       "21       7005  2017              rr24 -0.0625\n",
       "24       7005  2017              rr24 -0.0625\n",
       "55       7005  2017              rr24 -0.0625\n",
       "62       7005  2017              rr24 -0.0250\n",
       "74       7005  2017              rr24 -0.0600\n",
       "...       ...   ...               ...     ...\n",
       "72764    7790  2022              rr24 -0.0250\n",
       "72765    7790  2022              rr24 -0.0750\n",
       "72782    7790  2022              rr24 -0.0250\n",
       "72783    7790  2022              rr24 -0.0750\n",
       "72880    7790  2022              rr24 -0.0375\n",
       "\n",
       "[6968 rows x 4 columns]"
      ]
     },
     "execution_count": 50,
     "metadata": {},
     "output_type": "execute_result"
    }
   ],
   "source": [
    "data_single_rain_negative"
   ]
  },
  {
   "cell_type": "code",
   "execution_count": 51,
   "id": "7b8b90f6",
   "metadata": {},
   "outputs": [
    {
     "data": {
      "text/plain": [
       "<AxesSubplot:xlabel='meteo_variable_id', ylabel='value'>"
      ]
     },
     "execution_count": 51,
     "metadata": {},
     "output_type": "execute_result"
    },
    {
     "data": {
      "image/png": "[encoded data removed]",
      "text/plain": [
       "<Figure size 1080x360 with 1 Axes>"
      ]
     },
     "metadata": {
      "needs_background": "light"
     },
     "output_type": "display_data"
    }
   ],
   "source": [
    "fig, ax = plt.subplots(1, 1, figsize=(15, 5))\n",
    "sns.boxplot(data=data_single_rain_negative, x='meteo_variable_id', hue='year', y='value', ax=ax)"
   ]
  },
  {
   "cell_type": "code",
   "execution_count": null,
   "id": "0f9b6c0d",
   "metadata": {},
   "outputs": [],
   "source": []
  },
  {
   "cell_type": "code",
   "execution_count": null,
   "id": "dac4e32e",
   "metadata": {},
   "outputs": [],
   "source": []
  }
 ],
 "metadata": {
  "kernelspec": {
   "display_name": "Python 3 (ipykernel)",
   "language": "python",
   "name": "python3"
  },
  "language_info": {
   "codemirror_mode": {
    "name": "ipython",
    "version": 3
   },
   "file_extension": ".py",
   "mimetype": "text/x-python",
   "name": "python",
   "nbconvert_exporter": "python",
   "pygments_lexer": "ipython3",
   "version": "3.9.7"
  }
 },
 "nbformat": 4,
 "nbformat_minor": 5
}
