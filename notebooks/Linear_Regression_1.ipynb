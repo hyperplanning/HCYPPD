{
 "cells": [
  {
   "cell_type": "code",
   "execution_count": 1,
   "id": "600d95fe",
   "metadata": {},
   "outputs": [],
   "source": [
    "import math\n",
    "import numpy as np\n",
    "import pandas as pd\n",
    "import seaborn as sns\n",
    "import matplotlib.pyplot as plt\n",
    "%matplotlib inline\n",
    "\n",
    "from sklearn.linear_model import LinearRegression\n",
    "from sklearn.model_selection import train_test_split"
   ]
  },
  {
   "cell_type": "markdown",
   "id": "5f29b13e",
   "metadata": {},
   "source": [
    "# Readin data"
   ]
  },
  {
   "cell_type": "markdown",
   "id": "6a0052e1",
   "metadata": {},
   "source": [
    "## X Data"
   ]
  },
  {
   "cell_type": "code",
   "execution_count": 2,
   "id": "0a482456",
   "metadata": {},
   "outputs": [],
   "source": [
    "data = pd.read_parquet(\"data/raw/france.parquet\")\n",
    "data.dropna(axis=0, how='any', inplace=True)"
   ]
  },
  {
   "cell_type": "code",
   "execution_count": 3,
   "id": "97a150ea",
   "metadata": {},
   "outputs": [
    {
     "data": {
      "text/html": [
       "<div>\n",
       "<style scoped>\n",
       "    .dataframe tbody tr th:only-of-type {\n",
       "        vertical-align: middle;\n",
       "    }\n",
       "\n",
       "    .dataframe tbody tr th {\n",
       "        vertical-align: top;\n",
       "    }\n",
       "\n",
       "    .dataframe thead th {\n",
       "        text-align: right;\n",
       "    }\n",
       "</style>\n",
       "<table border=\"1\" class=\"dataframe\">\n",
       "  <thead>\n",
       "    <tr style=\"text-align: right;\">\n",
       "      <th>meteo_variable_id</th>\n",
       "      <th>rr24</th>\n",
       "      <th>t</th>\n",
       "      <th>t_max</th>\n",
       "      <th>t_min</th>\n",
       "      <th>t_avg</th>\n",
       "      <th>DJ_0</th>\n",
       "      <th>cumul_DJ_0</th>\n",
       "      <th>DJ_6</th>\n",
       "      <th>cumul_DJ_6</th>\n",
       "      <th>cumul_rr24</th>\n",
       "      <th>id_sta</th>\n",
       "    </tr>\n",
       "    <tr>\n",
       "      <th>date</th>\n",
       "      <th></th>\n",
       "      <th></th>\n",
       "      <th></th>\n",
       "      <th></th>\n",
       "      <th></th>\n",
       "      <th></th>\n",
       "      <th></th>\n",
       "      <th></th>\n",
       "      <th></th>\n",
       "      <th></th>\n",
       "      <th></th>\n",
       "    </tr>\n",
       "  </thead>\n",
       "  <tbody>\n",
       "    <tr>\n",
       "      <th>2017-09-01</th>\n",
       "      <td>2.857143</td>\n",
       "      <td>285.55</td>\n",
       "      <td>16.55</td>\n",
       "      <td>12.55</td>\n",
       "      <td>14.578571</td>\n",
       "      <td>14.55</td>\n",
       "      <td>14.55</td>\n",
       "      <td>8.55</td>\n",
       "      <td>8.55</td>\n",
       "      <td>2.857143</td>\n",
       "      <td>7005</td>\n",
       "    </tr>\n",
       "    <tr>\n",
       "      <th>2017-09-02</th>\n",
       "      <td>4.925000</td>\n",
       "      <td>284.85</td>\n",
       "      <td>19.05</td>\n",
       "      <td>11.15</td>\n",
       "      <td>14.637500</td>\n",
       "      <td>15.10</td>\n",
       "      <td>29.65</td>\n",
       "      <td>9.10</td>\n",
       "      <td>17.65</td>\n",
       "      <td>7.782143</td>\n",
       "      <td>7005</td>\n",
       "    </tr>\n",
       "    <tr>\n",
       "      <th>2017-09-03</th>\n",
       "      <td>2.175000</td>\n",
       "      <td>283.75</td>\n",
       "      <td>19.85</td>\n",
       "      <td>9.55</td>\n",
       "      <td>14.600000</td>\n",
       "      <td>14.70</td>\n",
       "      <td>44.35</td>\n",
       "      <td>8.70</td>\n",
       "      <td>26.35</td>\n",
       "      <td>9.957143</td>\n",
       "      <td>7005</td>\n",
       "    </tr>\n",
       "    <tr>\n",
       "      <th>2017-09-04</th>\n",
       "      <td>0.775000</td>\n",
       "      <td>287.75</td>\n",
       "      <td>20.45</td>\n",
       "      <td>14.75</td>\n",
       "      <td>17.200000</td>\n",
       "      <td>17.60</td>\n",
       "      <td>61.95</td>\n",
       "      <td>11.60</td>\n",
       "      <td>37.95</td>\n",
       "      <td>10.732143</td>\n",
       "      <td>7005</td>\n",
       "    </tr>\n",
       "    <tr>\n",
       "      <th>2017-09-05</th>\n",
       "      <td>0.087500</td>\n",
       "      <td>290.85</td>\n",
       "      <td>20.15</td>\n",
       "      <td>17.35</td>\n",
       "      <td>18.700000</td>\n",
       "      <td>18.75</td>\n",
       "      <td>80.70</td>\n",
       "      <td>12.75</td>\n",
       "      <td>50.70</td>\n",
       "      <td>10.819643</td>\n",
       "      <td>7005</td>\n",
       "    </tr>\n",
       "    <tr>\n",
       "      <th>...</th>\n",
       "      <td>...</td>\n",
       "      <td>...</td>\n",
       "      <td>...</td>\n",
       "      <td>...</td>\n",
       "      <td>...</td>\n",
       "      <td>...</td>\n",
       "      <td>...</td>\n",
       "      <td>...</td>\n",
       "      <td>...</td>\n",
       "      <td>...</td>\n",
       "      <td>...</td>\n",
       "    </tr>\n",
       "    <tr>\n",
       "      <th>2022-05-30</th>\n",
       "      <td>-0.037500</td>\n",
       "      <td>290.75</td>\n",
       "      <td>25.65</td>\n",
       "      <td>17.05</td>\n",
       "      <td>21.325000</td>\n",
       "      <td>21.35</td>\n",
       "      <td>28323.75</td>\n",
       "      <td>15.35</td>\n",
       "      <td>17960.55</td>\n",
       "      <td>2892.122381</td>\n",
       "      <td>7790</td>\n",
       "    </tr>\n",
       "    <tr>\n",
       "      <th>2022-05-31</th>\n",
       "      <td>0.125000</td>\n",
       "      <td>290.45</td>\n",
       "      <td>27.35</td>\n",
       "      <td>17.35</td>\n",
       "      <td>22.625000</td>\n",
       "      <td>22.35</td>\n",
       "      <td>28346.10</td>\n",
       "      <td>16.35</td>\n",
       "      <td>17976.90</td>\n",
       "      <td>2892.247381</td>\n",
       "      <td>7790</td>\n",
       "    </tr>\n",
       "    <tr>\n",
       "      <th>2022-06-01</th>\n",
       "      <td>0.050000</td>\n",
       "      <td>291.75</td>\n",
       "      <td>26.75</td>\n",
       "      <td>18.25</td>\n",
       "      <td>22.600000</td>\n",
       "      <td>22.50</td>\n",
       "      <td>28368.60</td>\n",
       "      <td>16.50</td>\n",
       "      <td>17993.40</td>\n",
       "      <td>2892.297381</td>\n",
       "      <td>7790</td>\n",
       "    </tr>\n",
       "    <tr>\n",
       "      <th>2022-06-02</th>\n",
       "      <td>0.175000</td>\n",
       "      <td>291.75</td>\n",
       "      <td>27.55</td>\n",
       "      <td>17.95</td>\n",
       "      <td>23.187500</td>\n",
       "      <td>22.75</td>\n",
       "      <td>28391.35</td>\n",
       "      <td>16.75</td>\n",
       "      <td>18010.15</td>\n",
       "      <td>2892.472381</td>\n",
       "      <td>7790</td>\n",
       "    </tr>\n",
       "    <tr>\n",
       "      <th>2022-06-03</th>\n",
       "      <td>0.000000</td>\n",
       "      <td>292.25</td>\n",
       "      <td>22.65</td>\n",
       "      <td>19.25</td>\n",
       "      <td>20.383333</td>\n",
       "      <td>20.95</td>\n",
       "      <td>28412.30</td>\n",
       "      <td>14.95</td>\n",
       "      <td>18025.10</td>\n",
       "      <td>2892.472381</td>\n",
       "      <td>7790</td>\n",
       "    </tr>\n",
       "  </tbody>\n",
       "</table>\n",
       "<p>71411 rows × 11 columns</p>\n",
       "</div>"
      ],
      "text/plain": [
       "meteo_variable_id      rr24       t  t_max  t_min      t_avg   DJ_0  \\\n",
       "date                                                                  \n",
       "2017-09-01         2.857143  285.55  16.55  12.55  14.578571  14.55   \n",
       "2017-09-02         4.925000  284.85  19.05  11.15  14.637500  15.10   \n",
       "2017-09-03         2.175000  283.75  19.85   9.55  14.600000  14.70   \n",
       "2017-09-04         0.775000  287.75  20.45  14.75  17.200000  17.60   \n",
       "2017-09-05         0.087500  290.85  20.15  17.35  18.700000  18.75   \n",
       "...                     ...     ...    ...    ...        ...    ...   \n",
       "2022-05-30        -0.037500  290.75  25.65  17.05  21.325000  21.35   \n",
       "2022-05-31         0.125000  290.45  27.35  17.35  22.625000  22.35   \n",
       "2022-06-01         0.050000  291.75  26.75  18.25  22.600000  22.50   \n",
       "2022-06-02         0.175000  291.75  27.55  17.95  23.187500  22.75   \n",
       "2022-06-03         0.000000  292.25  22.65  19.25  20.383333  20.95   \n",
       "\n",
       "meteo_variable_id  cumul_DJ_0   DJ_6  cumul_DJ_6   cumul_rr24  id_sta  \n",
       "date                                                                   \n",
       "2017-09-01              14.55   8.55        8.55     2.857143    7005  \n",
       "2017-09-02              29.65   9.10       17.65     7.782143    7005  \n",
       "2017-09-03              44.35   8.70       26.35     9.957143    7005  \n",
       "2017-09-04              61.95  11.60       37.95    10.732143    7005  \n",
       "2017-09-05              80.70  12.75       50.70    10.819643    7005  \n",
       "...                       ...    ...         ...          ...     ...  \n",
       "2022-05-30           28323.75  15.35    17960.55  2892.122381    7790  \n",
       "2022-05-31           28346.10  16.35    17976.90  2892.247381    7790  \n",
       "2022-06-01           28368.60  16.50    17993.40  2892.297381    7790  \n",
       "2022-06-02           28391.35  16.75    18010.15  2892.472381    7790  \n",
       "2022-06-03           28412.30  14.95    18025.10  2892.472381    7790  \n",
       "\n",
       "[71411 rows x 11 columns]"
      ]
     },
     "execution_count": 3,
     "metadata": {},
     "output_type": "execute_result"
    }
   ],
   "source": [
    "data"
   ]
  },
  {
   "cell_type": "markdown",
   "id": "9902c15c",
   "metadata": {},
   "source": [
    "## Position info"
   ]
  },
  {
   "cell_type": "code",
   "execution_count": 4,
   "id": "b77d5d42",
   "metadata": {},
   "outputs": [],
   "source": [
    "position = pd.read_csv(\"data/raw/postesSynop.csv\", sep=\";\")"
   ]
  },
  {
   "cell_type": "code",
   "execution_count": 5,
   "id": "86b8d5e4",
   "metadata": {
    "scrolled": false
   },
   "outputs": [
    {
     "data": {
      "text/html": [
       "<div>\n",
       "<style scoped>\n",
       "    .dataframe tbody tr th:only-of-type {\n",
       "        vertical-align: middle;\n",
       "    }\n",
       "\n",
       "    .dataframe tbody tr th {\n",
       "        vertical-align: top;\n",
       "    }\n",
       "\n",
       "    .dataframe thead th {\n",
       "        text-align: right;\n",
       "    }\n",
       "</style>\n",
       "<table border=\"1\" class=\"dataframe\">\n",
       "  <thead>\n",
       "    <tr style=\"text-align: right;\">\n",
       "      <th></th>\n",
       "      <th>ID</th>\n",
       "      <th>Nom</th>\n",
       "      <th>Latitude</th>\n",
       "      <th>Longitude</th>\n",
       "      <th>Altitude</th>\n",
       "    </tr>\n",
       "  </thead>\n",
       "  <tbody>\n",
       "    <tr>\n",
       "      <th>0</th>\n",
       "      <td>7005</td>\n",
       "      <td>ABBEVILLE</td>\n",
       "      <td>50.136000</td>\n",
       "      <td>1.834000</td>\n",
       "      <td>69</td>\n",
       "    </tr>\n",
       "    <tr>\n",
       "      <th>1</th>\n",
       "      <td>7015</td>\n",
       "      <td>LILLE-LESQUIN</td>\n",
       "      <td>50.570000</td>\n",
       "      <td>3.097500</td>\n",
       "      <td>47</td>\n",
       "    </tr>\n",
       "    <tr>\n",
       "      <th>2</th>\n",
       "      <td>7020</td>\n",
       "      <td>PTE DE LA HAGUE</td>\n",
       "      <td>49.725167</td>\n",
       "      <td>-1.939833</td>\n",
       "      <td>6</td>\n",
       "    </tr>\n",
       "    <tr>\n",
       "      <th>3</th>\n",
       "      <td>7027</td>\n",
       "      <td>CAEN-CARPIQUET</td>\n",
       "      <td>49.180000</td>\n",
       "      <td>-0.456167</td>\n",
       "      <td>67</td>\n",
       "    </tr>\n",
       "    <tr>\n",
       "      <th>4</th>\n",
       "      <td>7037</td>\n",
       "      <td>ROUEN-BOOS</td>\n",
       "      <td>49.383000</td>\n",
       "      <td>1.181667</td>\n",
       "      <td>151</td>\n",
       "    </tr>\n",
       "    <tr>\n",
       "      <th>...</th>\n",
       "      <td>...</td>\n",
       "      <td>...</td>\n",
       "      <td>...</td>\n",
       "      <td>...</td>\n",
       "      <td>...</td>\n",
       "    </tr>\n",
       "    <tr>\n",
       "      <th>57</th>\n",
       "      <td>81401</td>\n",
       "      <td>SAINT LAURENT</td>\n",
       "      <td>5.485500</td>\n",
       "      <td>-54.031667</td>\n",
       "      <td>5</td>\n",
       "    </tr>\n",
       "    <tr>\n",
       "      <th>58</th>\n",
       "      <td>81405</td>\n",
       "      <td>CAYENNE-MATOURY</td>\n",
       "      <td>4.822333</td>\n",
       "      <td>-52.365333</td>\n",
       "      <td>4</td>\n",
       "    </tr>\n",
       "    <tr>\n",
       "      <th>59</th>\n",
       "      <td>81408</td>\n",
       "      <td>SAINT GEORGES</td>\n",
       "      <td>3.890667</td>\n",
       "      <td>-51.804667</td>\n",
       "      <td>6</td>\n",
       "    </tr>\n",
       "    <tr>\n",
       "      <th>60</th>\n",
       "      <td>81415</td>\n",
       "      <td>MARIPASOULA</td>\n",
       "      <td>3.640167</td>\n",
       "      <td>-54.028333</td>\n",
       "      <td>106</td>\n",
       "    </tr>\n",
       "    <tr>\n",
       "      <th>61</th>\n",
       "      <td>89642</td>\n",
       "      <td>DUMONT D'URVILLE</td>\n",
       "      <td>-66.663167</td>\n",
       "      <td>140.001000</td>\n",
       "      <td>43</td>\n",
       "    </tr>\n",
       "  </tbody>\n",
       "</table>\n",
       "<p>62 rows × 5 columns</p>\n",
       "</div>"
      ],
      "text/plain": [
       "       ID               Nom   Latitude   Longitude  Altitude\n",
       "0    7005         ABBEVILLE  50.136000    1.834000        69\n",
       "1    7015     LILLE-LESQUIN  50.570000    3.097500        47\n",
       "2    7020   PTE DE LA HAGUE  49.725167   -1.939833         6\n",
       "3    7027    CAEN-CARPIQUET  49.180000   -0.456167        67\n",
       "4    7037        ROUEN-BOOS  49.383000    1.181667       151\n",
       "..    ...               ...        ...         ...       ...\n",
       "57  81401     SAINT LAURENT   5.485500  -54.031667         5\n",
       "58  81405   CAYENNE-MATOURY   4.822333  -52.365333         4\n",
       "59  81408     SAINT GEORGES   3.890667  -51.804667         6\n",
       "60  81415       MARIPASOULA   3.640167  -54.028333       106\n",
       "61  89642  DUMONT D'URVILLE -66.663167  140.001000        43\n",
       "\n",
       "[62 rows x 5 columns]"
      ]
     },
     "execution_count": 5,
     "metadata": {},
     "output_type": "execute_result"
    }
   ],
   "source": [
    "position"
   ]
  },
  {
   "cell_type": "code",
   "execution_count": 6,
   "id": "98f9d605",
   "metadata": {},
   "outputs": [],
   "source": [
    "Id = position[\"ID\"].astype(str)\n",
    "for i in range(len(Id)):\n",
    "    if len(Id[i]) < 5:\n",
    "        Id[i] = '0' + Id[i]"
   ]
  },
  {
   "cell_type": "code",
   "execution_count": 7,
   "id": "ea350681",
   "metadata": {},
   "outputs": [
    {
     "data": {
      "text/plain": [
       "0     07005\n",
       "1     07015\n",
       "2     07020\n",
       "3     07027\n",
       "4     07037\n",
       "      ...  \n",
       "57    81401\n",
       "58    81405\n",
       "59    81408\n",
       "60    81415\n",
       "61    89642\n",
       "Name: ID, Length: 62, dtype: object"
      ]
     },
     "execution_count": 7,
     "metadata": {},
     "output_type": "execute_result"
    }
   ],
   "source": [
    "Id"
   ]
  },
  {
   "cell_type": "markdown",
   "id": "70b1d574",
   "metadata": {},
   "source": [
    "## Y Data (production)"
   ]
  },
  {
   "cell_type": "code",
   "execution_count": 8,
   "id": "032d28c3",
   "metadata": {},
   "outputs": [],
   "source": [
    "production = pd.read_parquet(\"data/raw/franceagrimer-rdts-surfs-multicrops.parquet\")\n",
    "production = production.drop(production[production[\"n_dep\"] == \"2A\"].index)\n",
    "production = production.drop(production[production[\"n_dep\"] == \"2B\"].index)\n",
    "production = production.drop(production[production[\"n_dep\"].astype(int) > 95].index)"
   ]
  },
  {
   "cell_type": "code",
   "execution_count": 9,
   "id": "1b30cff4",
   "metadata": {},
   "outputs": [],
   "source": [
    "provinces = {7005: 80, 7015: 59, 7020: 50, 7027: 14, 7037: 76, 7072: 51, 7110: 29, 7117: 22, 7130: 35, 7139: 61, 7149: 91, 7168: 10, 7181: 54, 7190: 67, 7207: 56, 7222: 44, 7240: 37, 7255: 18, 7280: 21, 7299: 68, 7314: 17, 7335: 86, 7434: 87, 7460: 63, 7471: 43, 7481: 69, 7510: 33, 7535: 46, 7558: 12, 7577: 26, 7591: 5, 7607: 40, 7621: 65, 7627: 9, 7630: 31, 7643: 34, 7650: 13, 7661: 83, 7690: 6, 7747: 66, 67005: 10}"
   ]
  },
  {
   "cell_type": "code",
   "execution_count": 10,
   "id": "d70b358c",
   "metadata": {
    "scrolled": false
   },
   "outputs": [
    {
     "data": {
      "text/html": [
       "<div>\n",
       "<style scoped>\n",
       "    .dataframe tbody tr th:only-of-type {\n",
       "        vertical-align: middle;\n",
       "    }\n",
       "\n",
       "    .dataframe tbody tr th {\n",
       "        vertical-align: top;\n",
       "    }\n",
       "\n",
       "    .dataframe thead th {\n",
       "        text-align: right;\n",
       "    }\n",
       "</style>\n",
       "<table border=\"1\" class=\"dataframe\">\n",
       "  <thead>\n",
       "    <tr style=\"text-align: right;\">\n",
       "      <th></th>\n",
       "      <th>n_dep</th>\n",
       "      <th>dep</th>\n",
       "      <th>surf_2017</th>\n",
       "      <th>surf_2018</th>\n",
       "      <th>surf_2019</th>\n",
       "      <th>surf_2020</th>\n",
       "      <th>surf_2021</th>\n",
       "      <th>surf_2022</th>\n",
       "      <th>rdt_2017</th>\n",
       "      <th>rdt_2018</th>\n",
       "      <th>rdt_2019</th>\n",
       "      <th>rdt_2020</th>\n",
       "      <th>rdt_2021</th>\n",
       "      <th>rdt_2022</th>\n",
       "      <th>prod_2017</th>\n",
       "      <th>prod_2018</th>\n",
       "      <th>prod_2019</th>\n",
       "      <th>prod_2020</th>\n",
       "      <th>prod_2021</th>\n",
       "      <th>crop</th>\n",
       "    </tr>\n",
       "  </thead>\n",
       "  <tbody>\n",
       "    <tr>\n",
       "      <th>0</th>\n",
       "      <td>75</td>\n",
       "      <td>PARIS</td>\n",
       "      <td>0.0</td>\n",
       "      <td>0.0</td>\n",
       "      <td>0.0</td>\n",
       "      <td>0.0</td>\n",
       "      <td>0.0</td>\n",
       "      <td>0.0</td>\n",
       "      <td>0.0</td>\n",
       "      <td>0.0</td>\n",
       "      <td>0.0</td>\n",
       "      <td>0.0</td>\n",
       "      <td>0.0</td>\n",
       "      <td>0.0</td>\n",
       "      <td>0.0</td>\n",
       "      <td>0.0</td>\n",
       "      <td>0.0</td>\n",
       "      <td>0.0</td>\n",
       "      <td>0.0</td>\n",
       "      <td>OP</td>\n",
       "    </tr>\n",
       "    <tr>\n",
       "      <th>1</th>\n",
       "      <td>77</td>\n",
       "      <td>SEINE-ET-MARNE</td>\n",
       "      <td>24855.0</td>\n",
       "      <td>26685.0</td>\n",
       "      <td>37970.0</td>\n",
       "      <td>34730.0</td>\n",
       "      <td>24805.0</td>\n",
       "      <td>28775.0</td>\n",
       "      <td>72.0</td>\n",
       "      <td>68.0</td>\n",
       "      <td>79.0</td>\n",
       "      <td>53.0</td>\n",
       "      <td>70.0</td>\n",
       "      <td>0.0</td>\n",
       "      <td>178956.0</td>\n",
       "      <td>181458.0</td>\n",
       "      <td>299963.0</td>\n",
       "      <td>184069.0</td>\n",
       "      <td>173635.0</td>\n",
       "      <td>OP</td>\n",
       "    </tr>\n",
       "    <tr>\n",
       "      <th>2</th>\n",
       "      <td>78</td>\n",
       "      <td>YVELINES</td>\n",
       "      <td>4480.0</td>\n",
       "      <td>3890.0</td>\n",
       "      <td>6015.0</td>\n",
       "      <td>6770.0</td>\n",
       "      <td>4110.0</td>\n",
       "      <td>4275.0</td>\n",
       "      <td>65.0</td>\n",
       "      <td>62.0</td>\n",
       "      <td>78.0</td>\n",
       "      <td>51.0</td>\n",
       "      <td>67.0</td>\n",
       "      <td>0.0</td>\n",
       "      <td>29120.0</td>\n",
       "      <td>24118.0</td>\n",
       "      <td>46917.0</td>\n",
       "      <td>34527.0</td>\n",
       "      <td>27537.0</td>\n",
       "      <td>OP</td>\n",
       "    </tr>\n",
       "    <tr>\n",
       "      <th>3</th>\n",
       "      <td>91</td>\n",
       "      <td>ESSONNE</td>\n",
       "      <td>10600.0</td>\n",
       "      <td>11485.0</td>\n",
       "      <td>15950.0</td>\n",
       "      <td>13635.0</td>\n",
       "      <td>9440.0</td>\n",
       "      <td>10950.0</td>\n",
       "      <td>68.0</td>\n",
       "      <td>69.0</td>\n",
       "      <td>78.0</td>\n",
       "      <td>54.0</td>\n",
       "      <td>73.0</td>\n",
       "      <td>0.0</td>\n",
       "      <td>72080.0</td>\n",
       "      <td>79247.0</td>\n",
       "      <td>124410.0</td>\n",
       "      <td>73629.0</td>\n",
       "      <td>68912.0</td>\n",
       "      <td>OP</td>\n",
       "    </tr>\n",
       "    <tr>\n",
       "      <th>4</th>\n",
       "      <td>92</td>\n",
       "      <td>HAUTS DE SEINE</td>\n",
       "      <td>0.0</td>\n",
       "      <td>0.0</td>\n",
       "      <td>0.0</td>\n",
       "      <td>0.0</td>\n",
       "      <td>0.0</td>\n",
       "      <td>0.0</td>\n",
       "      <td>0.0</td>\n",
       "      <td>0.0</td>\n",
       "      <td>0.0</td>\n",
       "      <td>0.0</td>\n",
       "      <td>0.0</td>\n",
       "      <td>0.0</td>\n",
       "      <td>0.0</td>\n",
       "      <td>0.0</td>\n",
       "      <td>0.0</td>\n",
       "      <td>0.0</td>\n",
       "      <td>0.0</td>\n",
       "      <td>OP</td>\n",
       "    </tr>\n",
       "    <tr>\n",
       "      <th>...</th>\n",
       "      <td>...</td>\n",
       "      <td>...</td>\n",
       "      <td>...</td>\n",
       "      <td>...</td>\n",
       "      <td>...</td>\n",
       "      <td>...</td>\n",
       "      <td>...</td>\n",
       "      <td>...</td>\n",
       "      <td>...</td>\n",
       "      <td>...</td>\n",
       "      <td>...</td>\n",
       "      <td>...</td>\n",
       "      <td>...</td>\n",
       "      <td>...</td>\n",
       "      <td>...</td>\n",
       "      <td>...</td>\n",
       "      <td>...</td>\n",
       "      <td>...</td>\n",
       "      <td>...</td>\n",
       "      <td>...</td>\n",
       "    </tr>\n",
       "    <tr>\n",
       "      <th>100</th>\n",
       "      <td>05</td>\n",
       "      <td>HAUTES ALPES</td>\n",
       "      <td>141.0</td>\n",
       "      <td>150.0</td>\n",
       "      <td>176.0</td>\n",
       "      <td>210.0</td>\n",
       "      <td>235.0</td>\n",
       "      <td>235.0</td>\n",
       "      <td>112.0</td>\n",
       "      <td>105.0</td>\n",
       "      <td>84.2</td>\n",
       "      <td>79.6</td>\n",
       "      <td>70.5</td>\n",
       "      <td>0.0</td>\n",
       "      <td>1579.0</td>\n",
       "      <td>1575.0</td>\n",
       "      <td>1482.0</td>\n",
       "      <td>1672.0</td>\n",
       "      <td>1657.0</td>\n",
       "      <td>MA</td>\n",
       "    </tr>\n",
       "    <tr>\n",
       "      <th>101</th>\n",
       "      <td>06</td>\n",
       "      <td>ALPES MARITIMES</td>\n",
       "      <td>0.0</td>\n",
       "      <td>0.0</td>\n",
       "      <td>0.0</td>\n",
       "      <td>0.0</td>\n",
       "      <td>0.0</td>\n",
       "      <td>0.0</td>\n",
       "      <td>0.0</td>\n",
       "      <td>0.0</td>\n",
       "      <td>0.0</td>\n",
       "      <td>0.0</td>\n",
       "      <td>0.0</td>\n",
       "      <td>0.0</td>\n",
       "      <td>0.0</td>\n",
       "      <td>0.0</td>\n",
       "      <td>0.0</td>\n",
       "      <td>0.0</td>\n",
       "      <td>0.0</td>\n",
       "      <td>MA</td>\n",
       "    </tr>\n",
       "    <tr>\n",
       "      <th>102</th>\n",
       "      <td>13</td>\n",
       "      <td>BOUCHES-DU-RHONE</td>\n",
       "      <td>879.0</td>\n",
       "      <td>834.0</td>\n",
       "      <td>895.0</td>\n",
       "      <td>850.0</td>\n",
       "      <td>899.0</td>\n",
       "      <td>899.0</td>\n",
       "      <td>81.7</td>\n",
       "      <td>86.1</td>\n",
       "      <td>75.5</td>\n",
       "      <td>68.4</td>\n",
       "      <td>81.5</td>\n",
       "      <td>0.0</td>\n",
       "      <td>7178.0</td>\n",
       "      <td>7181.0</td>\n",
       "      <td>6760.0</td>\n",
       "      <td>5814.0</td>\n",
       "      <td>7323.0</td>\n",
       "      <td>MA</td>\n",
       "    </tr>\n",
       "    <tr>\n",
       "      <th>103</th>\n",
       "      <td>83</td>\n",
       "      <td>VAR</td>\n",
       "      <td>232.0</td>\n",
       "      <td>308.0</td>\n",
       "      <td>304.0</td>\n",
       "      <td>390.0</td>\n",
       "      <td>359.0</td>\n",
       "      <td>359.0</td>\n",
       "      <td>81.3</td>\n",
       "      <td>70.4</td>\n",
       "      <td>66.9</td>\n",
       "      <td>60.1</td>\n",
       "      <td>83.5</td>\n",
       "      <td>0.0</td>\n",
       "      <td>1886.0</td>\n",
       "      <td>2167.0</td>\n",
       "      <td>2035.0</td>\n",
       "      <td>2345.0</td>\n",
       "      <td>2997.0</td>\n",
       "      <td>MA</td>\n",
       "    </tr>\n",
       "    <tr>\n",
       "      <th>104</th>\n",
       "      <td>84</td>\n",
       "      <td>VAUCLUSE</td>\n",
       "      <td>846.0</td>\n",
       "      <td>545.0</td>\n",
       "      <td>746.0</td>\n",
       "      <td>870.0</td>\n",
       "      <td>629.0</td>\n",
       "      <td>629.0</td>\n",
       "      <td>75.6</td>\n",
       "      <td>70.6</td>\n",
       "      <td>69.3</td>\n",
       "      <td>66.9</td>\n",
       "      <td>64.4</td>\n",
       "      <td>0.0</td>\n",
       "      <td>6394.0</td>\n",
       "      <td>3845.0</td>\n",
       "      <td>5173.0</td>\n",
       "      <td>5820.0</td>\n",
       "      <td>4052.0</td>\n",
       "      <td>MA</td>\n",
       "    </tr>\n",
       "  </tbody>\n",
       "</table>\n",
       "<p>846 rows × 20 columns</p>\n",
       "</div>"
      ],
      "text/plain": [
       "    n_dep               dep  surf_2017  surf_2018  surf_2019  surf_2020  \\\n",
       "0      75             PARIS        0.0        0.0        0.0        0.0   \n",
       "1      77    SEINE-ET-MARNE    24855.0    26685.0    37970.0    34730.0   \n",
       "2      78          YVELINES     4480.0     3890.0     6015.0     6770.0   \n",
       "3      91           ESSONNE    10600.0    11485.0    15950.0    13635.0   \n",
       "4      92    HAUTS DE SEINE        0.0        0.0        0.0        0.0   \n",
       "..    ...               ...        ...        ...        ...        ...   \n",
       "100    05      HAUTES ALPES      141.0      150.0      176.0      210.0   \n",
       "101    06   ALPES MARITIMES        0.0        0.0        0.0        0.0   \n",
       "102    13  BOUCHES-DU-RHONE      879.0      834.0      895.0      850.0   \n",
       "103    83               VAR      232.0      308.0      304.0      390.0   \n",
       "104    84          VAUCLUSE      846.0      545.0      746.0      870.0   \n",
       "\n",
       "     surf_2021  surf_2022  rdt_2017  rdt_2018  rdt_2019  rdt_2020  rdt_2021  \\\n",
       "0          0.0        0.0       0.0       0.0       0.0       0.0       0.0   \n",
       "1      24805.0    28775.0      72.0      68.0      79.0      53.0      70.0   \n",
       "2       4110.0     4275.0      65.0      62.0      78.0      51.0      67.0   \n",
       "3       9440.0    10950.0      68.0      69.0      78.0      54.0      73.0   \n",
       "4          0.0        0.0       0.0       0.0       0.0       0.0       0.0   \n",
       "..         ...        ...       ...       ...       ...       ...       ...   \n",
       "100      235.0      235.0     112.0     105.0      84.2      79.6      70.5   \n",
       "101        0.0        0.0       0.0       0.0       0.0       0.0       0.0   \n",
       "102      899.0      899.0      81.7      86.1      75.5      68.4      81.5   \n",
       "103      359.0      359.0      81.3      70.4      66.9      60.1      83.5   \n",
       "104      629.0      629.0      75.6      70.6      69.3      66.9      64.4   \n",
       "\n",
       "     rdt_2022  prod_2017  prod_2018  prod_2019  prod_2020  prod_2021 crop  \n",
       "0         0.0        0.0        0.0        0.0        0.0        0.0   OP  \n",
       "1         0.0   178956.0   181458.0   299963.0   184069.0   173635.0   OP  \n",
       "2         0.0    29120.0    24118.0    46917.0    34527.0    27537.0   OP  \n",
       "3         0.0    72080.0    79247.0   124410.0    73629.0    68912.0   OP  \n",
       "4         0.0        0.0        0.0        0.0        0.0        0.0   OP  \n",
       "..        ...        ...        ...        ...        ...        ...  ...  \n",
       "100       0.0     1579.0     1575.0     1482.0     1672.0     1657.0   MA  \n",
       "101       0.0        0.0        0.0        0.0        0.0        0.0   MA  \n",
       "102       0.0     7178.0     7181.0     6760.0     5814.0     7323.0   MA  \n",
       "103       0.0     1886.0     2167.0     2035.0     2345.0     2997.0   MA  \n",
       "104       0.0     6394.0     3845.0     5173.0     5820.0     4052.0   MA  \n",
       "\n",
       "[846 rows x 20 columns]"
      ]
     },
     "execution_count": 10,
     "metadata": {},
     "output_type": "execute_result"
    }
   ],
   "source": [
    "production"
   ]
  },
  {
   "cell_type": "markdown",
   "id": "e681e981",
   "metadata": {},
   "source": [
    "# Linear Regression"
   ]
  },
  {
   "cell_type": "code",
   "execution_count": 11,
   "id": "e306e7c6",
   "metadata": {},
   "outputs": [],
   "source": [
    "crop = \"OP\""
   ]
  },
  {
   "cell_type": "code",
   "execution_count": 12,
   "id": "8cc8e433",
   "metadata": {},
   "outputs": [],
   "source": [
    "crops = production[\"crop\"].unique()\n",
    "stations = data[\"id_sta\"].unique()"
   ]
  },
  {
   "cell_type": "code",
   "execution_count": 13,
   "id": "8837f6bb",
   "metadata": {},
   "outputs": [],
   "source": [
    "lr = LinearRegression()"
   ]
  },
  {
   "cell_type": "markdown",
   "id": "912cc424",
   "metadata": {},
   "source": [
    "## Learn - Year - Region/Country - rr24, DJ_0 - rdt - OP"
   ]
  },
  {
   "cell_type": "markdown",
   "id": "89257745",
   "metadata": {},
   "source": [
    "### Each province, Per year, is treated separately. The whole country learns together. "
   ]
  },
  {
   "cell_type": "code",
   "execution_count": 14,
   "id": "8a06a2d6",
   "metadata": {},
   "outputs": [],
   "source": [
    "def init_x():\n",
    "    for i in stations:\n",
    "        if i in provinces:\n",
    "            data_station = data[data[\"id_sta\"] == i]\n",
    "            year_position = 0\n",
    "\n",
    "            for j in range(2017, 2023):\n",
    "                rain = 0\n",
    "                rad = 0\n",
    "                for k in range(year_position, len(data_station)):\n",
    "                    if data_station.index[k].year == j:\n",
    "                        rain += data_station[\"rr24\"][k]\n",
    "                        rad += data_station[\"DJ_0\"][k]\n",
    "                    else:\n",
    "                        year_position = k\n",
    "                        break\n",
    "                total_rain[str(provinces[i]) + \"_\" + str(j)] = rain\n",
    "                total_useful_rad[str(provinces[i]) + \"_\" + str(j)] = rad"
   ]
  },
  {
   "cell_type": "code",
   "execution_count": 15,
   "id": "47683a82",
   "metadata": {
    "scrolled": false
   },
   "outputs": [],
   "source": [
    "def init_y():\n",
    "    for i in total_rain:\n",
    "        n_dep0, year = i.split('_')\n",
    "        r_year = production['n_dep'].map(lambda x : x == n_dep0)\n",
    "        r_crop = production['crop'].map(lambda x : x == crop)\n",
    "        rdt = production[r_year & r_crop][\"rdt_\" + year].values\n",
    "        if rdt.size > 0:\n",
    "            if rdt[0]:\n",
    "                total_OP_rdt[i] = rdt[0]"
   ]
  },
  {
   "cell_type": "code",
   "execution_count": 16,
   "id": "3279abb8",
   "metadata": {},
   "outputs": [],
   "source": [
    "def init_list():\n",
    "    data_list = []\n",
    "    OP_rdt_list = []\n",
    "\n",
    "    for i in total_OP_rdt:\n",
    "        if i in total_rain:\n",
    "            data_list.append(np.array([total_rain[i], total_useful_rad[i]]))\n",
    "            OP_rdt_list.append(total_OP_rdt[i])\n",
    "\n",
    "    data_list = np.array(data_list)\n",
    "    OP_rdt_list = np.array(OP_rdt_list)\n",
    "    \n",
    "    return data_list, OP_rdt_list"
   ]
  },
  {
   "cell_type": "code",
   "execution_count": 17,
   "id": "789d2056",
   "metadata": {},
   "outputs": [],
   "source": [
    "total_rain = {}\n",
    "total_useful_rad = {}\n",
    "total_OP_rdt = {}\n",
    "init_x()\n",
    "\n",
    "def init():\n",
    "    init_y()\n",
    "    return init_list()\n",
    "\n",
    "data_array, OP_rdt_array = init()"
   ]
  },
  {
   "cell_type": "markdown",
   "id": "dda9d87e",
   "metadata": {},
   "source": [
    "### Degre 0"
   ]
  },
  {
   "cell_type": "code",
   "execution_count": 18,
   "id": "2e67c6a9",
   "metadata": {},
   "outputs": [],
   "source": [
    "def predict_zero():\n",
    "    predict_zero = OP_rdt_array.mean()\n",
    "    \n",
    "    RMSE = math.sqrt(((predict_zero - OP_rdt_array) ** 2).sum() / len(OP_rdt_array))\n",
    "    rRMSE = RMSE / OP_rdt_array.mean()\n",
    "    \n",
    "    return rRMSE"
   ]
  },
  {
   "cell_type": "code",
   "execution_count": 19,
   "id": "130cb4c1",
   "metadata": {},
   "outputs": [
    {
     "data": {
      "text/plain": [
       "0.25293414870821573"
      ]
     },
     "execution_count": 19,
     "metadata": {},
     "output_type": "execute_result"
    }
   ],
   "source": [
    "predict_zero()"
   ]
  },
  {
   "cell_type": "markdown",
   "id": "f2d638ed",
   "metadata": {},
   "source": [
    "### Degre 1"
   ]
  },
  {
   "cell_type": "code",
   "execution_count": 20,
   "id": "7e3d584d",
   "metadata": {},
   "outputs": [],
   "source": [
    "def predict_one(times):\n",
    "    sum_RMSE = 0\n",
    "    \n",
    "    for i in range(times):\n",
    "        X_train, X_test, y_train, y_test = train_test_split(data_array, OP_rdt_array, test_size=0.2)\n",
    "        lr.fit(X_train, y_train)\n",
    "        y_predict = lr.predict(X_test)\n",
    "        \n",
    "        RMSE = math.sqrt(((y_predict - y_test) ** 2).sum() / len(y_test))\n",
    "        rRMSE = RMSE / y_test.mean()\n",
    "        sum_RMSE += rRMSE\n",
    "\n",
    "    return sum_RMSE / times"
   ]
  },
  {
   "cell_type": "code",
   "execution_count": 21,
   "id": "6e5e6ce4",
   "metadata": {},
   "outputs": [
    {
     "data": {
      "text/plain": [
       "0.25227374603708425"
      ]
     },
     "execution_count": 21,
     "metadata": {},
     "output_type": "execute_result"
    }
   ],
   "source": [
    "predict_one(1000)"
   ]
  },
  {
   "cell_type": "markdown",
   "id": "5d68f1a7",
   "metadata": {},
   "source": [
    "### Degre 2"
   ]
  },
  {
   "cell_type": "code",
   "execution_count": 22,
   "id": "50153c74",
   "metadata": {},
   "outputs": [],
   "source": [
    "def predict_two(times):\n",
    "    sum_RMSE = 0\n",
    "    \n",
    "    for i in range(times):\n",
    "        X_train, X_test, y_train, y_test = train_test_split(data_array, OP_rdt_array, test_size=0.2)\n",
    "        X_train_2 = np.concatenate([X_train ** 2, X_train], axis=1)\n",
    "        lr.fit(X_train_2, y_train)\n",
    "        X_test_2 = np.concatenate([X_test ** 2, X_test], axis=1)\n",
    "        y_predict_2 = lr.predict(X_test_2)\n",
    "        \n",
    "        RMSE = math.sqrt(((y_predict_2 - y_test) ** 2).sum() / len(y_test))\n",
    "        rRMSE = RMSE / y_test.mean()\n",
    "        \n",
    "        sum_RMSE += rRMSE\n",
    "\n",
    "    return sum_RMSE / times"
   ]
  },
  {
   "cell_type": "code",
   "execution_count": 23,
   "id": "a5ee6446",
   "metadata": {},
   "outputs": [
    {
     "data": {
      "text/plain": [
       "0.23287113488017827"
      ]
     },
     "execution_count": 23,
     "metadata": {},
     "output_type": "execute_result"
    }
   ],
   "source": [
    "predict_two(1000)"
   ]
  },
  {
   "cell_type": "markdown",
   "id": "393ce772",
   "metadata": {},
   "source": [
    "### Degre 3"
   ]
  },
  {
   "cell_type": "code",
   "execution_count": 24,
   "id": "3510b6f6",
   "metadata": {},
   "outputs": [],
   "source": [
    "def predict_three(times):\n",
    "    sum_RMSE = 0\n",
    "    \n",
    "    for i in range(times):\n",
    "        X_train, X_test, y_train, y_test = train_test_split(data_array, OP_rdt_array, test_size=0.2)\n",
    "        X_train_3 = np.concatenate([X_train ** 3, X_train ** 2, X_train], axis=1)\n",
    "        lr.fit(X_train_3, y_train)\n",
    "        X_test_3 = np.concatenate([X_test ** 3, X_test ** 2, X_test], axis=1)\n",
    "        y_predict_3 = lr.predict(X_test_3)\n",
    "        \n",
    "        RMSE = math.sqrt(((y_predict_3 - y_test) ** 2).sum() / len(y_test))\n",
    "        rRMSE = RMSE / y_test.mean()\n",
    "        \n",
    "        sum_RMSE += rRMSE\n",
    "\n",
    "    return sum_RMSE / times"
   ]
  },
  {
   "cell_type": "code",
   "execution_count": 25,
   "id": "ff753ebe",
   "metadata": {},
   "outputs": [
    {
     "data": {
      "text/plain": [
       "0.2250264705316141"
      ]
     },
     "execution_count": 25,
     "metadata": {},
     "output_type": "execute_result"
    }
   ],
   "source": [
    "predict_three(1000)"
   ]
  },
  {
   "cell_type": "markdown",
   "id": "0c193cae",
   "metadata": {},
   "source": [
    "### Degre n"
   ]
  },
  {
   "cell_type": "code",
   "execution_count": 26,
   "id": "a33b4b59",
   "metadata": {},
   "outputs": [],
   "source": [
    "def predict_n(n, times):\n",
    "    if n == 0:\n",
    "        return predict_zero()\n",
    "\n",
    "    sum_RMSE = 0\n",
    "    \n",
    "    for i in range(times):\n",
    "        X_train, X_test, y_train, y_test = train_test_split(data_array, OP_rdt_array, test_size=0.2)\n",
    "        X_train_n = X_train\n",
    "        X_test_n = X_test\n",
    "        for i in range(2, n + 1):\n",
    "            X_train_n = np.concatenate([X_train ** i, X_train_n], axis=1)\n",
    "            X_test_n = np.concatenate([X_test ** i, X_test_n], axis=1)\n",
    "        \n",
    "        lr.fit(X_train_n, y_train)\n",
    "        y_predict_n = lr.predict(X_test_n)\n",
    "        \n",
    "        RMSE = math.sqrt(((y_predict_n - y_test) ** 2).sum() / len(y_test))\n",
    "        rRMSE = RMSE / y_test.mean()\n",
    "        \n",
    "        sum_RMSE += rRMSE\n",
    "\n",
    "    return sum_RMSE / times"
   ]
  },
  {
   "cell_type": "code",
   "execution_count": 27,
   "id": "68fde349",
   "metadata": {},
   "outputs": [],
   "source": [
    "def test_degree_n(times):\n",
    "    degree = np.linspace(0, 10, 11)\n",
    "    for i in degree:\n",
    "        rRMSE_degree[crop + i.astype(int).astype(str)] = predict_n(i.astype(int), times)"
   ]
  },
  {
   "cell_type": "code",
   "execution_count": 28,
   "id": "2a3a59b3",
   "metadata": {},
   "outputs": [],
   "source": [
    "times = 1000\n",
    "rRMSE_degree = {}\n",
    "test_degree_n(times)"
   ]
  },
  {
   "cell_type": "markdown",
   "id": "f4bb6414",
   "metadata": {},
   "source": [
    "### Other grains"
   ]
  },
  {
   "cell_type": "code",
   "execution_count": 29,
   "id": "1b83b1ed",
   "metadata": {},
   "outputs": [],
   "source": [
    "times = 1000"
   ]
  },
  {
   "cell_type": "code",
   "execution_count": 30,
   "id": "ed6d25eb",
   "metadata": {},
   "outputs": [],
   "source": [
    "def draw():\n",
    "    fig, ax = plt.subplots(1, 1, figsize=(15, 5))\n",
    "    for crop in crops:\n",
    "        rRMSE_plot = []\n",
    "        x_plot = np.linspace(0, 10, 11)\n",
    "        for i in range(11):\n",
    "            rRMSE_plot.append(rRMSE_degree[crop + str(i)])\n",
    "        plt.plot(x_plot, rRMSE_plot)\n",
    "    plt.legend(crops)"
   ]
  },
  {
   "cell_type": "code",
   "execution_count": 31,
   "id": "f864cd7e",
   "metadata": {},
   "outputs": [
    {
     "data": {
      "image/png": "[encoded data removed]",
      "text/plain": [
       "<Figure size 1080x360 with 1 Axes>"
      ]
     },
     "metadata": {
      "needs_background": "light"
     },
     "output_type": "display_data"
    }
   ],
   "source": [
    "rRMSE_degree = {}\n",
    "total_rain = {}\n",
    "total_useful_rad = {}\n",
    "init_x()\n",
    "\n",
    "for crop in crops:\n",
    "    total_OP_rdt = {}\n",
    "\n",
    "    data_array, OP_rdt_array = init()\n",
    "    \n",
    "    test_degree_n(times)\n",
    "\n",
    "draw()"
   ]
  },
  {
   "cell_type": "code",
   "execution_count": 32,
   "id": "3347122c",
   "metadata": {
    "scrolled": true
   },
   "outputs": [],
   "source": [
    "best_predict = {}\n",
    "\n",
    "for crop in crops:\n",
    "    temp_list = []\n",
    "    for i in range(11):\n",
    "        temp_list.append(rRMSE_degree[crop + str(i)])\n",
    "    best_predict[crop + \"_\" + str(temp_list.index(min(temp_list)))] = min(temp_list)"
   ]
  },
  {
   "cell_type": "code",
   "execution_count": 33,
   "id": "1f0ae172",
   "metadata": {},
   "outputs": [
    {
     "data": {
      "text/plain": [
       "{'OP_3': 0.2246569039284271,\n",
       " 'CZH_4': 0.1796609663838037,\n",
       " 'BTH_3': 0.18750149936814978,\n",
       " 'TS_2': 0.19492623315501806,\n",
       " 'BTP_3': 0.2554383236268331,\n",
       " 'BDP_4': 0.22422659210875043,\n",
       " 'BDH_4': 0.22144783157372638,\n",
       " 'OH_3': 0.16457177088287916,\n",
       " 'MA_2': 0.18690687065699277}"
      ]
     },
     "execution_count": 33,
     "metadata": {},
     "output_type": "execute_result"
    }
   ],
   "source": [
    "best_predict"
   ]
  },
  {
   "cell_type": "code",
   "execution_count": null,
   "id": "2a85385c",
   "metadata": {},
   "outputs": [],
   "source": []
  }
 ],
 "metadata": {
  "kernelspec": {
   "display_name": "Python 3 (ipykernel)",
   "language": "python",
   "name": "python3"
  },
  "language_info": {
   "codemirror_mode": {
    "name": "ipython",
    "version": 3
   },
   "file_extension": ".py",
   "mimetype": "text/x-python",
   "name": "python",
   "nbconvert_exporter": "python",
   "pygments_lexer": "ipython3",
   "version": "3.9.7"
  }
 },
 "nbformat": 4,
 "nbformat_minor": 5
}
