{
 "cells": [
  {
   "cell_type": "code",
   "execution_count": 1,
   "id": "33daa83a",
   "metadata": {},
   "outputs": [],
   "source": [
    "import math\n",
    "import numpy as np\n",
    "import pandas as pd\n",
    "from itertools import permutations\n",
    "\n",
    "from sklearn.linear_model import LinearRegression\n",
    "from sklearn.model_selection import train_test_split"
   ]
  },
  {
   "cell_type": "code",
   "execution_count": 2,
   "id": "3954ca87",
   "metadata": {},
   "outputs": [],
   "source": [
    "data = pd.read_parquet(\"data/raw/france.parquet\")\n",
    "data.dropna(axis=0, how='any', inplace=True)\n",
    "\n",
    "position = pd.read_csv(\"data/raw/postesSynop.csv\", sep=\";\")\n",
    "\n",
    "Id = position[\"ID\"].astype(str)\n",
    "for i in range(len(Id)):\n",
    "    if len(Id[i]) < 5:\n",
    "        Id[i] = '0' + Id[i]\n",
    "\n",
    "production = pd.read_parquet(\"data/raw/franceagrimer-rdts-surfs-multicrops.parquet\")\n",
    "production = production.drop(production[production[\"n_dep\"] == \"2A\"].index)\n",
    "production = production.drop(production[production[\"n_dep\"] == \"2B\"].index)\n",
    "production = production.drop(production[production[\"n_dep\"].astype(int) > 95].index)\n",
    "\n",
    "provinces = {7005: 80, 7015: 59, 7020: 50, 7027: 14, 7037: 76, \n",
    "             7072: 51, 7110: 29, 7117: 22, 7130: 35, 7139: 61, \n",
    "             7149: 91, 7168: 10, 7181: 54, 7190: 67, 7207: 56, \n",
    "             7222: 44, 7240: 37, 7255: 18, 7280: 21, 7299: 68, \n",
    "             7314: 17, 7335: 86, 7434: 87, 7460: 63, 7471: 43, \n",
    "             7481: 69, 7510: 33, 7535: 46, 7558: 12, 7577: 26, \n",
    "             7591: 5,  7607: 40, 7621: 65, 7627: 9,  7630: 31, \n",
    "             7643: 34, 7650: 13, 7661: 83, 7690: 6,  7747: 66, 67005: 10}\n",
    "\n",
    "crops = production[\"crop\"].unique()\n",
    "stations = data[\"id_sta\"].unique()"
   ]
  },
  {
   "cell_type": "code",
   "execution_count": 3,
   "id": "abeaeee8",
   "metadata": {},
   "outputs": [],
   "source": [
    "lr = LinearRegression()"
   ]
  },
  {
   "cell_type": "markdown",
   "id": "9cfa6251",
   "metadata": {},
   "source": [
    "# Double Elements Linear Regression All Try"
   ]
  },
  {
   "cell_type": "code",
   "execution_count": 4,
   "id": "d3c5d725",
   "metadata": {},
   "outputs": [],
   "source": [
    "def init_x(data_list, consider_name):\n",
    "    for i in stations:\n",
    "        if i in provinces:\n",
    "            data_station = data[data[\"id_sta\"] == i]\n",
    "            year_position = 0\n",
    "\n",
    "            for j in range(2017, 2023):\n",
    "                one_data = [0 for i in range(len(data_list))]\n",
    "                for k in range(year_position, len(data_station)):\n",
    "                    if data_station.index[k].year == j:\n",
    "                        for d in range(len(one_data)):\n",
    "                            one_data[d] += data_station[consider_name[d]][k]\n",
    "                    else:\n",
    "                        year_position = k\n",
    "                        break\n",
    "                for d in range(len(one_data)):\n",
    "                    data_list[d][str(provinces[i]) + \"_\" + str(j)] = one_data[d]\n",
    "\n",
    "\n",
    "def init_y(data_list):\n",
    "    for i in data_list[0]:\n",
    "        n_dep0, year = i.split('_')\n",
    "        r_year = production['n_dep'].map(lambda x: x == n_dep0)\n",
    "        r_crop = production['crop'].map(lambda x: x == crop)\n",
    "        rdt = production[r_year & r_crop][\"rdt_\" + year].values\n",
    "        if rdt.size > 0:\n",
    "            if rdt[0]:\n",
    "                total_rdt[i] = rdt[0]\n",
    "\n",
    "\n",
    "def init_list(data_list):\n",
    "    temp_data_list = []\n",
    "    temp_rdt_list = []\n",
    "\n",
    "    for i in total_rdt:\n",
    "        if i in data_list[0]:\n",
    "            temp_data_list.append(np.array([data_list[j][i] for j in range(len(data_list))]))\n",
    "            temp_rdt_list.append(total_rdt[i])\n",
    "\n",
    "    temp_rdt_list = np.array(temp_rdt_list)\n",
    "\n",
    "    return temp_data_list, temp_rdt_list\n",
    "\n",
    "\n",
    "def add_degreed_data(data_list, degrees):\n",
    "    temp_data_list = data_list.copy()\n",
    "    \n",
    "    for i in range(len(data_list)):\n",
    "        temp_list = []\n",
    "        for j in range(len(data_list[i])):\n",
    "            for d in range(1, degrees[j] + 1):\n",
    "                temp_list.append(data_list[i][j] ** d)\n",
    "        temp_data_list[i] = temp_list\n",
    "\n",
    "    return np.array(temp_data_list)\n",
    "\n",
    "\n",
    "def init(data_list):\n",
    "    init_y(data_list)\n",
    "    return init_list(data_list)"
   ]
  },
  {
   "cell_type": "code",
   "execution_count": 5,
   "id": "cb411274",
   "metadata": {},
   "outputs": [],
   "source": [
    "def predict_n(times, data_number):\n",
    "    sum_RMSE = 0\n",
    "    coef = np.array([0.0 for i in range(data_number)])\n",
    "\n",
    "    for i in range(times):\n",
    "        X_train, X_test, y_train, y_test = train_test_split(data_array, rdt_array, test_size=0.2)\n",
    "        lr.fit(X_train, y_train)\n",
    "        coef += lr.coef_\n",
    "        y_predict = lr.predict(X_test)\n",
    "\n",
    "        RMSE = math.sqrt(((y_predict - y_test) ** 2).sum() / len(y_test))\n",
    "        rRMSE = RMSE / y_test.mean()\n",
    "\n",
    "        sum_RMSE += rRMSE\n",
    "\n",
    "    return sum_RMSE / times, coef / times"
   ]
  },
  {
   "cell_type": "markdown",
   "id": "68ec82d0",
   "metadata": {},
   "source": [
    "##  rr24 + DJ_0"
   ]
  },
  {
   "cell_type": "code",
   "execution_count": 12,
   "id": "1b3d823b",
   "metadata": {},
   "outputs": [],
   "source": [
    "start = 1\n",
    "end = 12\n",
    "times = 1000\n",
    "total_rain = {}\n",
    "total_rad_0 = {}\n",
    "consider_list = [total_rain, total_rad_0]\n",
    "\n",
    "rRMSE_degree = {}\n",
    "coeffs = {}\n",
    "permutation_list = list(permutations([i for i in range(start, end)], 2))\n",
    "permutation_list.insert(0, (start, start))\n",
    "permutation_list.append((end - 1, end - 1))\n",
    "\n",
    "init_x(consider_list, [\"rr24\", \"DJ_0\"])\n",
    "\n",
    "for crop in crops:\n",
    "    total_rdt = {}\n",
    "    temp_data_array, rdt_array = init(consider_list)\n",
    "\n",
    "    for permut_param in permutation_list:\n",
    "        data_array = add_degreed_data(temp_data_array, permut_param)\n",
    "        str_permut_param = \"_\" + str(permut_param)[1: -1].replace(\", \", \"_\")\n",
    "        rRMSE_degree[crop + str_permut_param], coeffs[crop + str_permut_param] = predict_n(times, sum(permut_param))"
   ]
  },
  {
   "cell_type": "code",
   "execution_count": 13,
   "id": "bf7818e2",
   "metadata": {},
   "outputs": [],
   "source": [
    "best_weighted_degrees = {}\n",
    "temp_best_weighted_rRMSE = {}\n",
    "\n",
    "for r in rRMSE_degree:\n",
    "    crop = r.split(\"_\")[0]\n",
    "    rRMSE = r.split(\"_\")[1:]\n",
    "    if crop not in temp_best_weighted_rRMSE or temp_best_weighted_rRMSE[crop] > rRMSE_degree[r]:\n",
    "        temp_best_weighted_rRMSE[crop] = rRMSE_degree[r]\n",
    "        best_weighted_degrees[crop] = [int(i) for i in rRMSE]\n",
    "\n",
    "best_weighted_rRMSE = {}\n",
    "for crop in temp_best_weighted_rRMSE:\n",
    "    best_weighted_rRMSE[crop + \"_\" + str(best_weighted_degrees[crop])[1: -1].replace(\", \", \"_\")] = temp_best_weighted_rRMSE[crop]"
   ]
  },
  {
   "cell_type": "code",
   "execution_count": 14,
   "id": "14ca28d8",
   "metadata": {},
   "outputs": [
    {
     "data": {
      "text/plain": [
       "{'OP_4_3': 0.2254742055459391,\n",
       " 'CZH_4_2': 0.17578495614477627,\n",
       " 'BTH_4_3': 0.18763185026265206,\n",
       " 'TS_3_2': 0.19390791755679662,\n",
       " 'BTP_4_3': 0.2557370932506683,\n",
       " 'BDP_3_4': 0.21575690698785,\n",
       " 'BDH_2_8': 0.215987861164541,\n",
       " 'OH_5_3': 0.16641979431051712,\n",
       " 'MA_3_1': 0.18638299163474906}"
      ]
     },
     "execution_count": 14,
     "metadata": {},
     "output_type": "execute_result"
    }
   ],
   "source": [
    "best_weighted_rRMSE"
   ]
  },
  {
   "cell_type": "markdown",
   "id": "673f1a5b",
   "metadata": {},
   "source": [
    "## rr24 + DJ_6"
   ]
  },
  {
   "cell_type": "code",
   "execution_count": 15,
   "id": "8a51aecd",
   "metadata": {},
   "outputs": [],
   "source": [
    "start = 1\n",
    "end = 12\n",
    "times = 1000\n",
    "total_rain = {}\n",
    "total_rad_6 = {}\n",
    "consider_list = [total_rain, total_rad_6]\n",
    "\n",
    "rRMSE_degree = {}\n",
    "coeffs = {}\n",
    "permutation_list = list(permutations([i for i in range(start, end)], 2))\n",
    "permutation_list.insert(0, (start, start))\n",
    "permutation_list.append((end - 1, end - 1))\n",
    "\n",
    "init_x(consider_list, [\"rr24\", \"DJ_6\"])\n",
    "\n",
    "for crop in crops:\n",
    "    total_rdt = {}\n",
    "    temp_data_array, rdt_array = init(consider_list)\n",
    "\n",
    "    for permut_param in permutation_list:\n",
    "        data_array = add_degreed_data(temp_data_array, permut_param)\n",
    "        str_permut_param = \"_\" + str(permut_param)[1: -1].replace(\", \", \"_\")\n",
    "        rRMSE_degree[crop + str_permut_param], coeffs[crop + str_permut_param] = predict_n(times, sum(permut_param))"
   ]
  },
  {
   "cell_type": "code",
   "execution_count": 16,
   "id": "ed04303c",
   "metadata": {},
   "outputs": [],
   "source": [
    "best_weighted_degrees = {}\n",
    "temp_best_weighted_rRMSE = {}\n",
    "\n",
    "for r in rRMSE_degree:\n",
    "    crop = r.split(\"_\")[0]\n",
    "    rRMSE = r.split(\"_\")[1:]\n",
    "    if crop not in temp_best_weighted_rRMSE or temp_best_weighted_rRMSE[crop] > rRMSE_degree[r]:\n",
    "        temp_best_weighted_rRMSE[crop] = rRMSE_degree[r]\n",
    "        best_weighted_degrees[crop] = [int(i) for i in rRMSE]\n",
    "\n",
    "best_weighted_rRMSE = {}\n",
    "for crop in temp_best_weighted_rRMSE:\n",
    "    best_weighted_rRMSE[crop + \"_\" + str(best_weighted_degrees[crop])[1: -1].replace(\", \", \"_\")] = temp_best_weighted_rRMSE[crop]"
   ]
  },
  {
   "cell_type": "code",
   "execution_count": 17,
   "id": "f7c01e01",
   "metadata": {},
   "outputs": [
    {
     "data": {
      "text/plain": [
       "{'OP_3_4': 0.2231814761784737,\n",
       " 'CZH_4_1': 0.17454503413035688,\n",
       " 'BTH_4_3': 0.18379178287037617,\n",
       " 'TS_3_1': 0.192653433263517,\n",
       " 'BTP_3_4': 0.25209740399482516,\n",
       " 'BDP_2_7': 0.21519061768822242,\n",
       " 'BDH_2_7': 0.213916990329565,\n",
       " 'OH_3_4': 0.16484429092579345,\n",
       " 'MA_3_1': 0.18746966576718754}"
      ]
     },
     "execution_count": 17,
     "metadata": {},
     "output_type": "execute_result"
    }
   ],
   "source": [
    "best_weighted_rRMSE"
   ]
  },
  {
   "cell_type": "code",
   "execution_count": null,
   "id": "3060941b",
   "metadata": {},
   "outputs": [],
   "source": []
  }
 ],
 "metadata": {
  "kernelspec": {
   "display_name": "Python 3 (ipykernel)",
   "language": "python",
   "name": "python3"
  },
  "language_info": {
   "codemirror_mode": {
    "name": "ipython",
    "version": 3
   },
   "file_extension": ".py",
   "mimetype": "text/x-python",
   "name": "python",
   "nbconvert_exporter": "python",
   "pygments_lexer": "ipython3",
   "version": "3.9.7"
  }
 },
 "nbformat": 4,
 "nbformat_minor": 5
}
