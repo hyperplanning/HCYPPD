{
 "cells": [
  {
   "cell_type": "code",
   "execution_count": 1,
   "id": "a591b58f",
   "metadata": {},
   "outputs": [],
   "source": [
    "import math\n",
    "import numpy as np\n",
    "import pandas as pd\n",
    "import seaborn as sns\n",
    "import matplotlib.pyplot as plt\n",
    "%matplotlib inline\n",
    "\n",
    "from sklearn.linear_model import LinearRegression\n",
    "from sklearn.model_selection import train_test_split"
   ]
  },
  {
   "cell_type": "code",
   "execution_count": 2,
   "id": "c48fff33",
   "metadata": {},
   "outputs": [],
   "source": [
    "data = pd.read_parquet(\"data/raw/france.parquet\")\n",
    "data.dropna(axis=0, how='any', inplace=True)\n",
    "\n",
    "position = pd.read_csv(\"data/raw/postesSynop.csv\", sep=\";\")\n",
    "\n",
    "Id = position[\"ID\"].astype(str)\n",
    "for i in range(len(Id)):\n",
    "    if len(Id[i]) < 5:\n",
    "        Id[i] = '0' + Id[i]\n",
    "\n",
    "production = pd.read_parquet(\"data/raw/franceagrimer-rdts-surfs-multicrops.parquet\")\n",
    "production = production.drop(production[production[\"n_dep\"] == \"2A\"].index)\n",
    "production = production.drop(production[production[\"n_dep\"] == \"2B\"].index)\n",
    "production = production.drop(production[production[\"n_dep\"].astype(int) > 95].index)\n",
    "\n",
    "provinces = {7005: 80, 7015: 59, 7020: 50, 7027: 14, 7037: 76, 7072: 51, 7110: 29, 7117: 22, 7130: 35, 7139: 61, 7149: 91, 7168: 10, 7181: 54, 7190: 67, 7207: 56, 7222: 44, 7240: 37, 7255: 18, 7280: 21, 7299: 68, 7314: 17, 7335: 86, 7434: 87, 7460: 63, 7471: 43, 7481: 69, 7510: 33, 7535: 46, 7558: 12, 7577: 26, 7591: 5, 7607: 40, 7621: 65, 7627: 9, 7630: 31, 7643: 34, 7650: 13, 7661: 83, 7690: 6, 7747: 66, 67005: 10}\n",
    "\n",
    "crops = production[\"crop\"].unique()\n",
    "stations = data[\"id_sta\"].unique()"
   ]
  },
  {
   "cell_type": "code",
   "execution_count": 3,
   "id": "993d5bbe",
   "metadata": {},
   "outputs": [],
   "source": [
    "lr = LinearRegression()"
   ]
  },
  {
   "cell_type": "markdown",
   "id": "c73bd7fd",
   "metadata": {},
   "source": [
    "# Single element prediction"
   ]
  },
  {
   "cell_type": "code",
   "execution_count": 4,
   "id": "8e1a9c40",
   "metadata": {},
   "outputs": [],
   "source": [
    "times = 1000"
   ]
  },
  {
   "cell_type": "code",
   "execution_count": 5,
   "id": "6a9f5c8c",
   "metadata": {},
   "outputs": [],
   "source": [
    "def init_y():\n",
    "    for i in total_rain:\n",
    "        n_dep0, year = i.split('_')\n",
    "        r_year = production['n_dep'].map(lambda x : x == n_dep0)\n",
    "        r_crop = production['crop'].map(lambda x : x == crop)\n",
    "        rdt = production[r_year & r_crop][\"rdt_\" + year].values\n",
    "        if rdt.size > 0:\n",
    "            if rdt[0]:\n",
    "                total_OP_rdt[i] = rdt[0]"
   ]
  },
  {
   "cell_type": "code",
   "execution_count": 6,
   "id": "e54885f0",
   "metadata": {},
   "outputs": [],
   "source": [
    "def init():\n",
    "    init_y()\n",
    "    return init_list()"
   ]
  },
  {
   "cell_type": "code",
   "execution_count": 7,
   "id": "cd2e164e",
   "metadata": {},
   "outputs": [],
   "source": [
    "def predict_zero():\n",
    "    predict_zero = OP_rdt_array.mean()\n",
    "    \n",
    "    RMSE = math.sqrt(((predict_zero - OP_rdt_array) ** 2).sum() / len(OP_rdt_array))\n",
    "    rRMSE = RMSE / OP_rdt_array.mean()\n",
    "    \n",
    "    return rRMSE"
   ]
  },
  {
   "cell_type": "code",
   "execution_count": 8,
   "id": "8a4180e9",
   "metadata": {},
   "outputs": [],
   "source": [
    "def predict_n(n, times):\n",
    "    if n == 0:\n",
    "        return predict_zero()\n",
    "\n",
    "    sum_RMSE = 0\n",
    "    \n",
    "    for i in range(times):\n",
    "        X_train, X_test, y_train, y_test = train_test_split(data_array, OP_rdt_array, test_size=0.2)\n",
    "        X_train_n = X_train\n",
    "        X_test_n = X_test\n",
    "        for i in range(2, n + 1):\n",
    "            X_train_n = np.concatenate([X_train ** i, X_train_n], axis=1)\n",
    "            X_test_n = np.concatenate([X_test ** i, X_test_n], axis=1)\n",
    "        \n",
    "        lr.fit(X_train_n, y_train)\n",
    "        y_predict_n = lr.predict(X_test_n)\n",
    "        \n",
    "        RMSE = math.sqrt(((y_predict_n - y_test) ** 2).sum() / len(y_test))\n",
    "        rRMSE = RMSE / y_test.mean()\n",
    "        \n",
    "        sum_RMSE += rRMSE\n",
    "\n",
    "    return sum_RMSE / times"
   ]
  },
  {
   "cell_type": "code",
   "execution_count": 9,
   "id": "bcd66074",
   "metadata": {},
   "outputs": [],
   "source": [
    "def test_degree_n(times):\n",
    "    degree = np.linspace(0, 10, 11)\n",
    "    for i in degree:\n",
    "        rRMSE_degree[crop + i.astype(int).astype(str)] = predict_n(i.astype(int), times)"
   ]
  },
  {
   "cell_type": "code",
   "execution_count": 10,
   "id": "21421d51",
   "metadata": {},
   "outputs": [],
   "source": [
    "def draw():\n",
    "    fig, ax = plt.subplots(1, 1, figsize=(15, 5))\n",
    "    for crop in crops:\n",
    "        rRMSE_plot = []\n",
    "        x_plot = np.linspace(0, 10, 11)\n",
    "        for i in range(11):\n",
    "            rRMSE_plot.append(rRMSE_degree[crop + str(i)])\n",
    "        plt.plot(x_plot, rRMSE_plot)\n",
    "    plt.legend(crops)"
   ]
  },
  {
   "cell_type": "markdown",
   "id": "a36de325",
   "metadata": {},
   "source": [
    "## rr24"
   ]
  },
  {
   "cell_type": "code",
   "execution_count": 11,
   "id": "bfc4f974",
   "metadata": {},
   "outputs": [],
   "source": [
    "def init_x():\n",
    "    for i in stations:\n",
    "        if i in provinces:\n",
    "            data_station = data[data[\"id_sta\"] == i]\n",
    "            year_position = 0\n",
    "\n",
    "            for j in range(2017, 2023):\n",
    "                rain = 0\n",
    "                for k in range(year_position, len(data_station)):\n",
    "                    if data_station.index[k].year == j:\n",
    "                        rain += data_station[\"rr24\"][k]\n",
    "                    else:\n",
    "                        year_position = k\n",
    "                        break\n",
    "                total_rain[str(provinces[i]) + \"_\" + str(j)] = rain"
   ]
  },
  {
   "cell_type": "code",
   "execution_count": 12,
   "id": "813f0bfb",
   "metadata": {},
   "outputs": [],
   "source": [
    "def init_list():\n",
    "    data_list = []\n",
    "    OP_rdt_list = []\n",
    "\n",
    "    for i in total_OP_rdt:\n",
    "        if i in total_rain:\n",
    "            data_list.append(np.array([total_rain[i]]))\n",
    "            OP_rdt_list.append(total_OP_rdt[i])\n",
    "\n",
    "    data_list = np.array(data_list)\n",
    "    OP_rdt_list = np.array(OP_rdt_list)\n",
    "    \n",
    "    return data_list, OP_rdt_list"
   ]
  },
  {
   "cell_type": "code",
   "execution_count": 13,
   "id": "f7e091b3",
   "metadata": {},
   "outputs": [
    {
     "data": {
      "image/png": "[encoded data removed]",
      "text/plain": [
       "<Figure size 1080x360 with 1 Axes>"
      ]
     },
     "metadata": {
      "needs_background": "light"
     },
     "output_type": "display_data"
    }
   ],
   "source": [
    "rRMSE_degree = {}\n",
    "total_rain = {}\n",
    "total_useful_rad = {}\n",
    "init_x()\n",
    "\n",
    "for crop in crops:\n",
    "    total_OP_rdt = {}\n",
    "\n",
    "    data_array, OP_rdt_array = init()\n",
    "\n",
    "    test_degree_n(times)\n",
    "\n",
    "draw()"
   ]
  },
  {
   "cell_type": "code",
   "execution_count": 14,
   "id": "0b78626e",
   "metadata": {},
   "outputs": [
    {
     "data": {
      "text/plain": [
       "{'OP_4': 0.2487602618961626,\n",
       " 'CZH_5': 0.21096907533039144,\n",
       " 'BTH_3': 0.2480718364437523,\n",
       " 'TS_0': 0.2254771996904205,\n",
       " 'BTP_3': 0.2930159987453777,\n",
       " 'BDP_0': 0.23267610695447274,\n",
       " 'BDH_0': 0.23267610695447274,\n",
       " 'OH_3': 0.22660175844216898,\n",
       " 'MA_0': 0.20852417057938513}"
      ]
     },
     "execution_count": 14,
     "metadata": {},
     "output_type": "execute_result"
    }
   ],
   "source": [
    "best_predict = {}\n",
    "\n",
    "for crop in crops:\n",
    "    temp_list = []\n",
    "    for i in range(11):\n",
    "        temp_list.append(rRMSE_degree[crop + str(i)])\n",
    "    best_predict[crop + \"_\" + str(temp_list.index(min(temp_list)))] = min(temp_list)\n",
    "\n",
    "best_predict"
   ]
  },
  {
   "cell_type": "code",
   "execution_count": null,
   "id": "5d2ac635",
   "metadata": {},
   "outputs": [],
   "source": []
  }
 ],
 "metadata": {
  "kernelspec": {
   "display_name": "Python 3 (ipykernel)",
   "language": "python",
   "name": "python3"
  },
  "language_info": {
   "codemirror_mode": {
    "name": "ipython",
    "version": 3
   },
   "file_extension": ".py",
   "mimetype": "text/x-python",
   "name": "python",
   "nbconvert_exporter": "python",
   "pygments_lexer": "ipython3",
   "version": "3.9.7"
  }
 },
 "nbformat": 4,
 "nbformat_minor": 5
}
